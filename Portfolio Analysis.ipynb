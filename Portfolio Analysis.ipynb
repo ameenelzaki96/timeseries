{
 "cells": [
  {
   "cell_type": "markdown",
   "id": "e9c85d37",
   "metadata": {},
   "source": [
    "The factor model is built on the premise that observed returns of multiple assets might be driven by a common source (or common sources as in the case of multiple factor modeling).\n",
    "\n",
    "The simplest from of factor modeling is where the market index is used as single common factor to analyze the returns of the portfolio.\n",
    "\n",
    "Given k assets, the return of asset i is given by the well known CAPM:\n",
    "$$ r_{i,t} = \\alpha_i + \\beta_i r^M_t + \\epsilon_{i,t}$$ \n",
    "Each of the asset in the portfolio will scale the market risk based on its own beta:\n",
    "$$ r_{1,t} = \\alpha_1 + \\beta_1 r^M_t + \\epsilon_{1,t}$$ \n",
    "$$ r_{2,t} = \\alpha_2 + \\beta_2 r^M_t + \\epsilon_{2,t}$$\n",
    "$$  ......$$\n",
    "$$ r_{k,t} = \\alpha_k + \\beta_k r^M_t + \\epsilon_{k,t}$$\n",
    "\n",
    "This can be re-written as:\n",
    "$$ r_{t} = \\alpha + \\beta r^M_t + \\epsilon_t $$\n",
    "Let $r_{t} = [r_{1,t} , r_{2,t}, ..., r_{k,t}]'$, $\\alpha = [\\alpha_1, \\alpha_2, ..., \\alpha_k]' $ ,$\\beta = [ \\beta_1, \\beta_2, ..., \\beta_k]' $ and finally $\\epsilon_t = [\\epsilon_{1,t}, \\epsilon_{2,t}, ... ,\\epsilon_{k,t}]'$.\n",
    "Which means that the portforlio returns of each asset at a time point t, can be summarized by the following multivariate equation:\n",
    "$$\\begin{bmatrix} r_{1,t} \\\\ r_{2,t} \\\\ .\\\\.\\\\ r_{k,t} \\end{bmatrix} = \\begin{bmatrix} \\alpha_1 \\\\ \\alpha_2 \\\\ .\\\\.\\\\ \\alpha_k \\end{bmatrix}+ \\begin{bmatrix} \\beta_1 \\\\ \\beta_2 \\\\ .\\\\.\\\\ \\beta_k \\end{bmatrix} r^M_t+ \\begin{bmatrix} \\epsilon_{1,t} \\\\ \\epsilon_{2,t} \\\\ .\\\\.\\\\ \\epsilon_{k,t} \\end{bmatrix}$$\n",
    "\n",
    "In compact form:\n",
    "$$ r_{t} = \\alpha + \\beta r^M_t + \\epsilon_t $$\n",
    "\n",
    "The assets are assumed independent therefore $Var[\\epsilon_t]$ is the $k*k$ diagonal matrix:\n",
    "$$D = \\begin{bmatrix} \\sigma_{1}^2 & 0 & 0 & ..&0 \\\\ 0& \\sigma_{2}^2 & 0 & ..&0\\\\ 0&..&..&..&0\\\\ 0 & 0 & 0 & ..& \\sigma_{k}^2 \\end{bmatrix}"
   ]
  },
  {
   "cell_type": "code",
   "execution_count": 1,
   "id": "10975565",
   "metadata": {},
   "outputs": [],
   "source": [
    "import numpy as np\n",
    "import matplotlib.pyplot as plt\n",
    "import pandas as pd\n",
    "import seaborn as sns\n",
    "import statsmodels.api as sm"
   ]
  },
  {
   "cell_type": "code",
   "execution_count": null,
   "id": "7bb663c6",
   "metadata": {},
   "outputs": [
    {
     "data": {
      "text/plain": [
       "14"
      ]
     },
     "execution_count": 2,
     "metadata": {},
     "output_type": "execute_result"
    }
   ],
   "source": [
    "data = pd.read_csv('Stocks_data.txt',delim_whitespace=True)\n",
    "data.head(5)"
   ]
  },
  {
   "cell_type": "markdown",
   "id": "bce04158",
   "metadata": {},
   "source": [
    "Since the k market equations are all assumed independent then the OLS estimates are the BLUE estimates of each asset coeffients."
   ]
  },
  {
   "cell_type": "code",
   "execution_count": 70,
   "id": "c82d5872",
   "metadata": {},
   "outputs": [],
   "source": [
    "alpha_hat = np.zeros(13)\n",
    "beta_hat = np.zeros(13)\n",
    "sigma2_hat = np.zeros(13)\n",
    "i = 0\n",
    "names = []\n",
    "for column_name in data:\n",
    "    if column_name == 'SP5' : break\n",
    "    names.append(column_name)\n",
    "    y = data[column_name]\n",
    "    x = sm.add_constant(data['SP5'])\n",
    "    model = sm.OLS(y, x).fit()\n",
    "    alpha_hat[i]= model.params[0]\n",
    "    beta_hat[i] = model.params[1]\n",
    "    sigma2_hat[i]  = (np.sum(model.resid**2))/(len(data[column_name])-2)\n",
    "    i = i + 1\n"
   ]
  },
  {
   "cell_type": "code",
   "execution_count": 72,
   "id": "147d6282",
   "metadata": {},
   "outputs": [
    {
     "data": {
      "text/html": [
       "<div>\n",
       "<style scoped>\n",
       "    .dataframe tbody tr th:only-of-type {\n",
       "        vertical-align: middle;\n",
       "    }\n",
       "\n",
       "    .dataframe tbody tr th {\n",
       "        vertical-align: top;\n",
       "    }\n",
       "\n",
       "    .dataframe thead th {\n",
       "        text-align: right;\n",
       "    }\n",
       "</style>\n",
       "<table border=\"1\" class=\"dataframe\">\n",
       "  <thead>\n",
       "    <tr style=\"text-align: right;\">\n",
       "      <th></th>\n",
       "      <th>Asset</th>\n",
       "      <th>Intercept</th>\n",
       "      <th>Risk Beta</th>\n",
       "      <th>Variances</th>\n",
       "    </tr>\n",
       "  </thead>\n",
       "  <tbody>\n",
       "    <tr>\n",
       "      <th>0</th>\n",
       "      <td>AA</td>\n",
       "      <td>0.549124</td>\n",
       "      <td>1.291591</td>\n",
       "      <td>59.198460</td>\n",
       "    </tr>\n",
       "    <tr>\n",
       "      <th>1</th>\n",
       "      <td>AGE</td>\n",
       "      <td>0.721806</td>\n",
       "      <td>1.514136</td>\n",
       "      <td>60.956514</td>\n",
       "    </tr>\n",
       "    <tr>\n",
       "      <th>2</th>\n",
       "      <td>CAT</td>\n",
       "      <td>0.839352</td>\n",
       "      <td>0.940693</td>\n",
       "      <td>59.667413</td>\n",
       "    </tr>\n",
       "    <tr>\n",
       "      <th>3</th>\n",
       "      <td>F</td>\n",
       "      <td>0.454364</td>\n",
       "      <td>1.219245</td>\n",
       "      <td>67.910311</td>\n",
       "    </tr>\n",
       "    <tr>\n",
       "      <th>4</th>\n",
       "      <td>FDX</td>\n",
       "      <td>0.799579</td>\n",
       "      <td>0.805117</td>\n",
       "      <td>78.390725</td>\n",
       "    </tr>\n",
       "    <tr>\n",
       "      <th>5</th>\n",
       "      <td>GM</td>\n",
       "      <td>0.198202</td>\n",
       "      <td>1.045702</td>\n",
       "      <td>66.098762</td>\n",
       "    </tr>\n",
       "    <tr>\n",
       "      <th>6</th>\n",
       "      <td>HPQ</td>\n",
       "      <td>0.683568</td>\n",
       "      <td>1.627951</td>\n",
       "      <td>89.667117</td>\n",
       "    </tr>\n",
       "    <tr>\n",
       "      <th>7</th>\n",
       "      <td>KMB</td>\n",
       "      <td>0.546302</td>\n",
       "      <td>0.549805</td>\n",
       "      <td>36.846100</td>\n",
       "    </tr>\n",
       "    <tr>\n",
       "      <th>8</th>\n",
       "      <td>MEL</td>\n",
       "      <td>0.884926</td>\n",
       "      <td>1.122871</td>\n",
       "      <td>37.454827</td>\n",
       "    </tr>\n",
       "    <tr>\n",
       "      <th>9</th>\n",
       "      <td>NYT</td>\n",
       "      <td>0.490412</td>\n",
       "      <td>0.770649</td>\n",
       "      <td>43.432899</td>\n",
       "    </tr>\n",
       "    <tr>\n",
       "      <th>10</th>\n",
       "      <td>PG</td>\n",
       "      <td>0.888091</td>\n",
       "      <td>0.468803</td>\n",
       "      <td>41.717107</td>\n",
       "    </tr>\n",
       "    <tr>\n",
       "      <th>11</th>\n",
       "      <td>TRB</td>\n",
       "      <td>0.651246</td>\n",
       "      <td>0.717881</td>\n",
       "      <td>52.058354</td>\n",
       "    </tr>\n",
       "    <tr>\n",
       "      <th>12</th>\n",
       "      <td>TXN</td>\n",
       "      <td>1.438887</td>\n",
       "      <td>1.796412</td>\n",
       "      <td>131.652394</td>\n",
       "    </tr>\n",
       "  </tbody>\n",
       "</table>\n",
       "</div>"
      ],
      "text/plain": [
       "   Asset  Intercept  Risk Beta   Variances\n",
       "0     AA   0.549124   1.291591   59.198460\n",
       "1    AGE   0.721806   1.514136   60.956514\n",
       "2    CAT   0.839352   0.940693   59.667413\n",
       "3      F   0.454364   1.219245   67.910311\n",
       "4    FDX   0.799579   0.805117   78.390725\n",
       "5     GM   0.198202   1.045702   66.098762\n",
       "6    HPQ   0.683568   1.627951   89.667117\n",
       "7    KMB   0.546302   0.549805   36.846100\n",
       "8    MEL   0.884926   1.122871   37.454827\n",
       "9    NYT   0.490412   0.770649   43.432899\n",
       "10    PG   0.888091   0.468803   41.717107\n",
       "11   TRB   0.651246   0.717881   52.058354\n",
       "12   TXN   1.438887   1.796412  131.652394"
      ]
     },
     "execution_count": 72,
     "metadata": {},
     "output_type": "execute_result"
    }
   ],
   "source": [
    "results = {\n",
    "    'Asset' : names,\n",
    "    'Intercept' : alpha_hat,\n",
    "    'Risk Beta' : beta_hat,\n",
    "    'Variances' : sigma2_hat\n",
    "}\n",
    "Estimates = pd.DataFrame(results)\n",
    "Estimates.head(13)"
   ]
  },
  {
   "cell_type": "code",
   "execution_count": 83,
   "id": "a150d723",
   "metadata": {},
   "outputs": [
    {
     "data": {
      "text/plain": [
       "0      7.694054\n",
       "1      7.807465\n",
       "2      7.724468\n",
       "3      8.240771\n",
       "4      8.853854\n",
       "5      8.130114\n",
       "6      9.469272\n",
       "7      6.070099\n",
       "8      6.120035\n",
       "9      6.590364\n",
       "10     6.458878\n",
       "11     7.215148\n",
       "12    11.473988\n",
       "Name: Variances, dtype: float64"
      ]
     },
     "execution_count": 83,
     "metadata": {},
     "output_type": "execute_result"
    }
   ],
   "source": [
    "np.sqrt(Estimates['Variances'])"
   ]
  },
  {
   "cell_type": "markdown",
   "id": "47fb2efb",
   "metadata": {},
   "source": [
    "The portfolio covariance is of particular importance  which can be obtained from the multivariate equation, noticing that:\n",
    "$$Var[r_t] = Var[\\beta r^M_{t}] + Var[\\epsilon_t] = \\beta Var[r^M_{t}] \\beta' + D$$\n",
    "Since this is a single factor model the variance of $r^M_{t}$ is just the scalar $\\sigma^2_{M}$, assuming stationarity of the market index.\n",
    "$$ \\Sigma = \\sigma^2_{M}\\beta\\beta' + D"
   ]
  },
  {
   "cell_type": "code",
   "execution_count": 96,
   "id": "2967deab",
   "metadata": {},
   "outputs": [
    {
     "data": {
      "text/plain": [
       "matrix([[1.        , 0.3766407 , 0.27301954, 0.3158194 , 0.21439079,\n",
       "         0.2848152 , 0.34966822, 0.21365877, 0.36429102, 0.26439898,\n",
       "         0.17542712, 0.23154978, 0.32854818],\n",
       "        [0.3766407 , 1.        , 0.29867485, 0.34549655, 0.23453682,\n",
       "         0.31157893, 0.38252611, 0.23373601, 0.39852299, 0.28924422,\n",
       "         0.19191179, 0.25330823, 0.35942145],\n",
       "        [0.27301954, 0.29867485, 1.        , 0.25044376, 0.1700112 ,\n",
       "         0.22585753, 0.27728576, 0.16943071, 0.2888816 , 0.20966753,\n",
       "         0.13911314, 0.18361822, 0.26053764],\n",
       "        [0.3158194 , 0.34549655, 0.25044376, 1.        , 0.19666297,\n",
       "         0.26126404, 0.32075441, 0.19599148, 0.33416806, 0.24253602,\n",
       "         0.16092118, 0.2124031 , 0.30138077],\n",
       "        [0.21439079, 0.23453682, 0.1700112 , 0.19666297, 1.        ,\n",
       "         0.17735644, 0.21774087, 0.13304682, 0.22684659, 0.16464311,\n",
       "         0.10923971, 0.14418768, 0.20458927],\n",
       "        [0.2848152 , 0.31157893, 0.22585753, 0.26126404, 0.17735644,\n",
       "         1.        , 0.28926574, 0.17675087, 0.30136256, 0.2187261 ,\n",
       "         0.14512344, 0.19155135, 0.27179403],\n",
       "        [0.34966822, 0.38252611, 0.27728576, 0.32075441, 0.21774087,\n",
       "         0.28926574, 1.        , 0.21699741, 0.36998345, 0.26853049,\n",
       "         0.17816836, 0.23516799, 0.3336821 ],\n",
       "        [0.21365877, 0.23373601, 0.16943071, 0.19599148, 0.13304682,\n",
       "         0.17675087, 0.21699741, 1.        , 0.22607204, 0.16408095,\n",
       "         0.10886672, 0.14369537, 0.20389072],\n",
       "        [0.36429102, 0.39852299, 0.2888816 , 0.33416806, 0.22684659,\n",
       "         0.30136256, 0.36998345, 0.22607204, 1.        , 0.27976018,\n",
       "         0.18561919, 0.2450025 , 0.34763637],\n",
       "        [0.26439898, 0.28924422, 0.20966753, 0.24253602, 0.16464311,\n",
       "         0.2187261 , 0.26853049, 0.16408095, 0.27976018, 1.        ,\n",
       "         0.13472065, 0.1778205 , 0.25231119],\n",
       "        [0.17542712, 0.19191179, 0.13911314, 0.16092118, 0.10923971,\n",
       "         0.14512344, 0.17816836, 0.10886672, 0.18561919, 0.13472065,\n",
       "         1.        , 0.11798282, 0.16740695],\n",
       "        [0.23154978, 0.25330823, 0.18361822, 0.2124031 , 0.14418768,\n",
       "         0.19155135, 0.23516799, 0.14369537, 0.2450025 , 0.1778205 ,\n",
       "         0.11798282, 1.        , 0.22096379],\n",
       "        [0.32854818, 0.35942145, 0.26053764, 0.30138077, 0.20458927,\n",
       "         0.27179403, 0.3336821 , 0.20389072, 0.34763637, 0.25231119,\n",
       "         0.16740695, 0.22096379, 1.        ]])"
      ]
     },
     "execution_count": 96,
     "metadata": {},
     "output_type": "execute_result"
    }
   ],
   "source": [
    "B = np.matrix(Estimates['Risk Beta'])\n",
    "\n",
    "D = np.diag(Estimates['Variances'])\n",
    "Sigma = np.transpose(B)*np.var(data['SP5'])*B+D\n",
    "s = np.sqrt(np.diag(Sigma))\n",
    "Sigma/np.outer(s,s)"
   ]
  },
  {
   "cell_type": "markdown",
   "id": "038a4ad1",
   "metadata": {},
   "source": [
    "Given that the covariance of the assets is estimated one can find the Global Minimum Variance Portfolio; GMVP, assigns wieghts to the securities in a way that gives the minimum risk.\n",
    "The unkown weight vector in this case $\\omega$ will solve the optimization problem:\n",
    "$$ \\min \\sigma^2_p = \\omega' \\Sigma_p \\omega$$ \n",
    "Subject to the constraint:\n",
    "$\\omega' 1  = 1$, where $1$ is a vector of ones of size k.\n",
    "\n",
    "The solution is given by the formula:\n",
    "$$ \\omega = \\frac{\\Sigma_p^{-1} 1}{1' \\Sigma_p^{-1} 1}$$"
   ]
  },
  {
   "cell_type": "code",
   "execution_count": null,
   "id": "98552770",
   "metadata": {},
   "outputs": [
    {
     "data": {
      "image/png": "[encoded data removed]",
      "text/plain": [
       "<Figure size 800x500 with 1 Axes>"
      ]
     },
     "metadata": {},
     "output_type": "display_data"
    }
   ],
   "source": [
    "#np.linalg.inv(Sigma)\n",
    "Sigma = np.matrix(Sigma)\n",
    "ones = np.zeros(13) + 1\n",
    "ones = np.matrix(ones)\n",
    "O = ones*np.linalg.inv(Sigma)*np.transpose(ones)\n",
    "omega_f = np.linalg.inv(Sigma)*np.transpose(ones)/O\n",
    "omega_f = np.array(omega_f)\n",
    "omega_f = omega_f.flatten()\n",
    "factor_model = {\n",
    "    'Asset': names,\n",
    "    'Weights' : np.transpose(omega_f)\n",
    "}\n",
    "factor_model = pd.DataFrame(factor_model)\n",
    "\n",
    "plt.figure(figsize=(8, 5))\n",
    "plt.bar(factor_model['Asset'], factor_model['Weights'], color = 'orange')\n",
    "plt.title('Asset Weights')\n",
    "plt.xlabel('Asset')\n",
    "plt.ylabel('Weight')\n",
    "plt.ylim(-1, 1)  \n",
    "plt.tight_layout()\n",
    "\n",
    "# Show the plot\n",
    "plt.show()\n",
    "\n",
    "\n",
    "\n",
    "\n"
   ]
  },
  {
   "cell_type": "code",
   "execution_count": 140,
   "id": "bf5dc007",
   "metadata": {},
   "outputs": [
    {
     "data": {
      "image/png": "[encoded data removed]",
      "text/plain": [
       "<Figure size 800x500 with 1 Axes>"
      ]
     },
     "metadata": {},
     "output_type": "display_data"
    }
   ],
   "source": [
    "df = data.drop(columns='SP5')\n",
    "E_Sigma=np.matrix(df.cov())\n",
    "O = ones*np.linalg.inv(E_Sigma)*np.transpose(ones)\n",
    "omega_emp = np.linalg.inv(E_Sigma)*np.transpose(ones)/O\n",
    "omega_emp = np.array(omega_emp)\n",
    "omega_emp = omega_emp.flatten()\n",
    "Emp_Estimate = {\n",
    "    'Asset': names,\n",
    "    'Weights' : np.transpose(omega_emp)\n",
    "}\n",
    "Emp_Estimate = pd.DataFrame(Emp_Estimate)\n",
    "\n",
    "plt.figure(figsize=(8, 5))\n",
    "plt.bar(Emp_Estimate['Asset'], Emp_Estimate['Weights'], color = 'skyblue')\n",
    "plt.title('Asset Weights')\n",
    "plt.xlabel('Asset')\n",
    "plt.ylabel('Weight')\n",
    "plt.ylim(-1, 1)  \n",
    "plt.tight_layout()\n",
    "\n",
    "# Show the plot\n",
    "plt.show()\n"
   ]
  },
  {
   "cell_type": "markdown",
   "id": "00884b99",
   "metadata": {},
   "source": [
    "The two results differ significantly in the way they handle the TRB stock assiging different weights. But they ovareall agree in assigning the highest weights to the same three stocks."
   ]
  }
 ],
 "metadata": {
  "kernelspec": {
   "display_name": "base",
   "language": "python",
   "name": "python3"
  },
  "language_info": {
   "codemirror_mode": {
    "name": "ipython",
    "version": 3
   },
   "file_extension": ".py",
   "mimetype": "text/x-python",
   "name": "python",
   "nbconvert_exporter": "python",
   "pygments_lexer": "ipython3",
   "version": "3.10.9"
  }
 },
 "nbformat": 4,
 "nbformat_minor": 5
}
