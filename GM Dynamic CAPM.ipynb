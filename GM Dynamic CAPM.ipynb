{
 "cells": [
  {
   "cell_type": "markdown",
   "id": "065aabec",
   "metadata": {},
   "source": [
    "Here we show the dynamic capital asset pricing model (time varying CAPM), in which the regression coefficients change with time.\n",
    "Such formualtion calls for a thorough analysis of the Kalman filter algorithm; this algorithm needs many customizing since the number of software programs addressing the problem is limited and proper handling of them depends on an awareness of how the algorithm operates and what are the parameters to be estimated.\n",
    "\n",
    "The text file for the data can be downloaded from (chapter 11, text file No.2):\n",
    "\n",
    "https://faculty.chicagobooth.edu/ruey-s-tsay/research/analysis-of-financial-time-series-3rd-edition\n",
    "\n",
    "At last the results inspire an interepretation based on the model parameters and whether such a model is better than the OLS regression in this dataset.\n"
   ]
  },
  {
   "cell_type": "code",
   "execution_count": null,
   "id": "65ad8100",
   "metadata": {},
   "outputs": [],
   "source": [
    "import numpy as np\n",
    "import matplotlib.pyplot as plt\n",
    "import pandas as pd\n",
    "import seaborn as sns\n",
    "import statsmodels.api as sm\n",
    "from scipy.stats import norm\n",
    "from scipy.optimize import minimize"
   ]
  },
  {
   "cell_type": "code",
   "execution_count": 2,
   "id": "547caf84",
   "metadata": {},
   "outputs": [
    {
     "data": {
      "text/html": [
       "<div>\n",
       "<style scoped>\n",
       "    .dataframe tbody tr th:only-of-type {\n",
       "        vertical-align: middle;\n",
       "    }\n",
       "\n",
       "    .dataframe tbody tr th {\n",
       "        vertical-align: top;\n",
       "    }\n",
       "\n",
       "    .dataframe thead th {\n",
       "        text-align: right;\n",
       "    }\n",
       "</style>\n",
       "<table border=\"1\" class=\"dataframe\">\n",
       "  <thead>\n",
       "    <tr style=\"text-align: right;\">\n",
       "      <th></th>\n",
       "      <th>AA</th>\n",
       "      <th>AGE</th>\n",
       "      <th>CAT</th>\n",
       "      <th>F</th>\n",
       "      <th>FDX</th>\n",
       "      <th>GM</th>\n",
       "      <th>HPQ</th>\n",
       "      <th>KMB</th>\n",
       "      <th>MEL</th>\n",
       "      <th>NYT</th>\n",
       "      <th>PG</th>\n",
       "      <th>TRB</th>\n",
       "      <th>TXN</th>\n",
       "      <th>SP5</th>\n",
       "    </tr>\n",
       "  </thead>\n",
       "  <tbody>\n",
       "    <tr>\n",
       "      <th>0</th>\n",
       "      <td>-16.40</td>\n",
       "      <td>-12.17</td>\n",
       "      <td>-4.44</td>\n",
       "      <td>-0.06</td>\n",
       "      <td>-2.28</td>\n",
       "      <td>-2.12</td>\n",
       "      <td>-6.19</td>\n",
       "      <td>-11.01</td>\n",
       "      <td>-10.77</td>\n",
       "      <td>-6.30</td>\n",
       "      <td>-8.89</td>\n",
       "      <td>-13.04</td>\n",
       "      <td>-7.61</td>\n",
       "      <td>-7.52</td>\n",
       "    </tr>\n",
       "    <tr>\n",
       "      <th>1</th>\n",
       "      <td>4.04</td>\n",
       "      <td>4.95</td>\n",
       "      <td>8.84</td>\n",
       "      <td>6.02</td>\n",
       "      <td>10.47</td>\n",
       "      <td>8.97</td>\n",
       "      <td>-4.01</td>\n",
       "      <td>-5.20</td>\n",
       "      <td>0.34</td>\n",
       "      <td>-4.62</td>\n",
       "      <td>-0.84</td>\n",
       "      <td>-0.37</td>\n",
       "      <td>4.97</td>\n",
       "      <td>0.21</td>\n",
       "    </tr>\n",
       "    <tr>\n",
       "      <th>2</th>\n",
       "      <td>0.12</td>\n",
       "      <td>13.08</td>\n",
       "      <td>0.17</td>\n",
       "      <td>2.06</td>\n",
       "      <td>10.84</td>\n",
       "      <td>1.57</td>\n",
       "      <td>5.67</td>\n",
       "      <td>3.21</td>\n",
       "      <td>-0.17</td>\n",
       "      <td>-0.66</td>\n",
       "      <td>5.41</td>\n",
       "      <td>2.36</td>\n",
       "      <td>2.69</td>\n",
       "      <td>1.77</td>\n",
       "    </tr>\n",
       "    <tr>\n",
       "      <th>3</th>\n",
       "      <td>-4.28</td>\n",
       "      <td>-11.06</td>\n",
       "      <td>0.25</td>\n",
       "      <td>-5.67</td>\n",
       "      <td>-2.44</td>\n",
       "      <td>-4.19</td>\n",
       "      <td>-5.29</td>\n",
       "      <td>-0.65</td>\n",
       "      <td>-2.20</td>\n",
       "      <td>-10.60</td>\n",
       "      <td>4.26</td>\n",
       "      <td>-7.98</td>\n",
       "      <td>-6.85</td>\n",
       "      <td>-3.34</td>\n",
       "    </tr>\n",
       "    <tr>\n",
       "      <th>4</th>\n",
       "      <td>5.81</td>\n",
       "      <td>19.70</td>\n",
       "      <td>8.52</td>\n",
       "      <td>3.89</td>\n",
       "      <td>-16.17</td>\n",
       "      <td>10.94</td>\n",
       "      <td>8.81</td>\n",
       "      <td>8.83</td>\n",
       "      <td>11.85</td>\n",
       "      <td>11.59</td>\n",
       "      <td>16.35</td>\n",
       "      <td>8.82</td>\n",
       "      <td>22.88</td>\n",
       "      <td>8.55</td>\n",
       "    </tr>\n",
       "  </tbody>\n",
       "</table>\n",
       "</div>"
      ],
      "text/plain": [
       "      AA    AGE   CAT     F    FDX     GM   HPQ    KMB    MEL    NYT     PG  \\\n",
       "0 -16.40 -12.17 -4.44 -0.06  -2.28  -2.12 -6.19 -11.01 -10.77  -6.30  -8.89   \n",
       "1   4.04   4.95  8.84  6.02  10.47   8.97 -4.01  -5.20   0.34  -4.62  -0.84   \n",
       "2   0.12  13.08  0.17  2.06  10.84   1.57  5.67   3.21  -0.17  -0.66   5.41   \n",
       "3  -4.28 -11.06  0.25 -5.67  -2.44  -4.19 -5.29  -0.65  -2.20 -10.60   4.26   \n",
       "4   5.81  19.70  8.52  3.89 -16.17  10.94  8.81   8.83  11.85  11.59  16.35   \n",
       "\n",
       "     TRB    TXN   SP5  \n",
       "0 -13.04  -7.61 -7.52  \n",
       "1  -0.37   4.97  0.21  \n",
       "2   2.36   2.69  1.77  \n",
       "3  -7.98  -6.85 -3.34  \n",
       "4   8.82  22.88  8.55  "
      ]
     },
     "execution_count": 2,
     "metadata": {},
     "output_type": "execute_result"
    }
   ],
   "source": [
    "data = pd.read_csv('Stocks_data.txt',delim_whitespace=True)\n",
    "data.head(5)"
   ]
  },
  {
   "cell_type": "code",
   "execution_count": 3,
   "id": "17a19c54",
   "metadata": {},
   "outputs": [
    {
     "data": {
      "text/plain": [
       "AA     float64\n",
       "AGE    float64\n",
       "CAT    float64\n",
       "F      float64\n",
       "FDX    float64\n",
       "GM     float64\n",
       "HPQ    float64\n",
       "KMB    float64\n",
       "MEL    float64\n",
       "NYT    float64\n",
       "PG     float64\n",
       "TRB    float64\n",
       "TXN    float64\n",
       "SP5    float64\n",
       "dtype: object"
      ]
     },
     "execution_count": 3,
     "metadata": {},
     "output_type": "execute_result"
    }
   ],
   "source": [
    "data.dtypes"
   ]
  },
  {
   "cell_type": "code",
   "execution_count": null,
   "id": "c21f5138",
   "metadata": {},
   "outputs": [
    {
     "name": "stdout",
     "output_type": "stream",
     "text": [
      "                            OLS Regression Results                            \n",
      "==============================================================================\n",
      "Dep. Variable:                     GM   R-squared:                       0.238\n",
      "Model:                            OLS   Adj. R-squared:                  0.233\n",
      "Method:                 Least Squares   F-statistic:                     51.78\n",
      "Date:                Sat, 14 Jun 2025   Prob (F-statistic):           2.03e-11\n",
      "Time:                        19:03:40   Log-Likelihood:                -589.43\n",
      "No. Observations:                 168   AIC:                             1183.\n",
      "Df Residuals:                     166   BIC:                             1189.\n",
      "Df Model:                           1                                         \n",
      "Covariance Type:            nonrobust                                         \n",
      "==============================================================================\n",
      "                 coef    std err          t      P>|t|      [0.025      0.975]\n",
      "------------------------------------------------------------------------------\n",
      "const          0.1982      0.630      0.315      0.754      -1.046       1.442\n",
      "SP5            1.0457      0.145      7.196      0.000       0.759       1.333\n",
      "==============================================================================\n",
      "Omnibus:                        2.864   Durbin-Watson:                   2.029\n",
      "Prob(Omnibus):                  0.239   Jarque-Bera (JB):                2.535\n",
      "Skew:                           0.185   Prob(JB):                        0.282\n",
      "Kurtosis:                       3.475   Cond. No.                         4.36\n",
      "==============================================================================\n",
      "\n",
      "Notes:\n",
      "[1] Standard Errors assume that the covariance matrix of the errors is correctly specified.\n"
     ]
    },
    {
     "data": {
      "text/plain": [
       "0.19820249373343998"
      ]
     },
     "execution_count": 23,
     "metadata": {},
     "output_type": "execute_result"
    }
   ],
   "source": [
    "y = data['GM']\n",
    "x = sm.add_constant(data['SP5'])\n",
    "model = sm.OLS(y, x).fit()\n",
    "print(model.summary())\n"
   ]
  },
  {
   "cell_type": "code",
   "execution_count": 5,
   "id": "8df84a74",
   "metadata": {},
   "outputs": [
    {
     "data": {
      "text/plain": [
       "Text(0.5, 1.0, 'GM Excess Returns')"
      ]
     },
     "execution_count": 5,
     "metadata": {},
     "output_type": "execute_result"
    },
    {
     "data": {
      "image/png": "[encoded data removed]",
      "text/plain": [
       "<Figure size 640x480 with 1 Axes>"
      ]
     },
     "metadata": {},
     "output_type": "display_data"
    }
   ],
   "source": [
    "plt.scatter(data['SP5'], data['GM'],color= 'green')\n",
    "plt.xlabel('Market returns')\n",
    "plt.ylabel('GM returns')\n",
    "plt.plot(data['SP5'], 0.1982 + 1.0457*data['SP5'] )\n",
    "plt.title('GM Excess Returns')"
   ]
  },
  {
   "cell_type": "markdown",
   "id": "4facf11a",
   "metadata": {},
   "source": [
    "The CAPM model is given by:\n",
    "$$ r_t = \\alpha_{t} + \\beta_{t} r_{t}^{M}+ \\epsilon_t, \\epsilon_t \\sim N(0, \\sigma_{\\epsilon}^2)$$\n",
    "$$ r_t = \\begin{bmatrix} \n",
    "1 &  r_{t}^{M}\n",
    "\\end{bmatrix} \\begin{bmatrix} \n",
    "\\alpha_{t} \\\\\n",
    "\\beta_{t}\n",
    "\\end{bmatrix} +  \\epsilon_t $$\n",
    "Let $$ \\begin{bmatrix} \n",
    "1 &  r_{t}^{M}\n",
    "\\end{bmatrix} = H'_t$$\n",
    "and, $$\\begin{bmatrix} \n",
    "\\alpha_{t} \\\\\n",
    "\\beta_{t}\n",
    "\\end{bmatrix} = \\bold{\\mu_{t}}$$\n",
    "The observation equation is written as:\n",
    "$$ r_t = H'_t \\bold{\\mu_{t}}+ \\epsilon_t,  \\epsilon_t \\sim N(0, \\sigma_{\\epsilon}^2)$$\n",
    "While the state equation is written as:\n",
    "$$ \\bold{\\mu_{t}} = \\bold{\\mu_{t-1}} + \\eta_t, \\eta_t \\sim N(0, Q)$$\n",
    "The unconditional variance of the state vector $\\mu_{t}$ is given by the matrix $\\Sigma$ and the matrix $Q$ is the variance matrix of the state noise, $\\eta_t$.\n",
    "$$Q =   \\begin{bmatrix} \n",
    "\\sigma_{\\eta_1}^{2} & 0\\\\\n",
    "0 & \\sigma_{\\eta_2}^{2}\n",
    "\\end{bmatrix} $$"
   ]
  },
  {
   "cell_type": "markdown",
   "id": "0163e9d1",
   "metadata": {},
   "source": [
    "The first thing to notice since now the state equation is expressed in a vector form, what will be the conditional variance of the vector $\\mu_{t}$.\n",
    "$$ E[\\mu_{t}|\\mathcal{I}_{t-1}] = \\mu_{t|t-1}$$\n",
    "$$Var[\\mu_{t}|\\mathcal{I}_{t-1}] = E[(\\mu_{t} - \\mu_{t|t-1})(\\mu_{t} - \\mu_{t|t-1})' ] = \\Sigma_{t|t-1}$$\n",
    "\n",
    "The prediction of the observation based on the information up to time t-1,\n",
    "$$ E[r_{t}|\\mathcal{I}_{t-1}] = H'_t\\mu_{t|t-1}$$\n",
    "The variance of the observation prediction:\n",
    "$$ E[(r_t - r_{t}|\\mathcal{I}_{t-1})(r_t - r_{t}|\\mathcal{I}_{t-1})'] = E[(H'_t \\mu_t + \\epsilon_t  - H'_t\\mu_{t|t-1})(H'_t \\mu_t + \\epsilon_t - H'_t\\mu_{t|t-1})']$$\n",
    "Which is:\n",
    "$$Var[r_t|\\mathcal{I}_{t-1}] = H_t'\\Sigma_{t|t-1} H_t + \\sigma_{\\epsilon}^2$$\n"
   ]
  },
  {
   "cell_type": "markdown",
   "id": "d3f7c2d5",
   "metadata": {},
   "source": [
    "The last point worth menioning is the covariance between the state and the observations.\n",
    "$$ Cov(\\mu_t, r_t|\\mathcal{I}_{t-1}) = E[( \\mu_t- \\mu_t|\\mathcal{I}_{t-1})(r_t - r_{t}|\\mathcal{I}_{t-1})'] = E[( \\mu_t- \\mu_{t|t-1})(r_t - H'_t\\mu_{t|t-1})'] $$\n",
    "$$ E[(\\mu_t- \\mu_{t|t-1})(H'_t \\mu_t + \\epsilon_t  - H'_t\\mu_{t|t-1})'] = E[(\\mu_t- \\mu_{t|t-1}) (H'_t (\\mu_t - \\mu_{t|t-1}))' + \\epsilon_t(\\mu_t- \\mu_{t|t-1})']$$\n",
    "Which is:\n",
    "$$ Cov(\\mu_t, r_t|\\mathcal{I}_{t-1}) = \\Sigma_{t|t-1} H_t"
   ]
  },
  {
   "cell_type": "code",
   "execution_count": 15,
   "id": "5b000468",
   "metadata": {},
   "outputs": [
    {
     "data": {
      "text/plain": [
       "matrix([[983.12413751, 130.66648596],\n",
       "        [130.66648596,  17.8880256 ]])"
      ]
     },
     "execution_count": 15,
     "metadata": {},
     "output_type": "execute_result"
    }
   ],
   "source": [
    "# prova:\n",
    "H0 = np.array([1, -7.52])\n",
    "H0 = np.matrix(H0)\n",
    "SS1 = np.matrix('1000,0;0,1000')\n",
    "n1 = H0*SS1*np.transpose(H0) + 0.7\n",
    "g1 = SS1*np.transpose(H0)/(n1)\n",
    "v1 = data['GM'][0]- H0*np.matrix('0;0')\n",
    "\n",
    "mu1 = np.matrix('0;0') + (SS1*np.transpose(H0)*v1)/n1\n",
    "mu1 # matrix([[-0.03683683],\n",
    "      #  [ 0.27701295]])\n",
    "Q = np.array([[0.5,0],[0,0.5]])\n",
    "Q = np.matrix(Q)\n",
    "SS2 = Q + SS1 - (SS1*np.transpose(H0)*H0*np.transpose(SS1))/n1\n",
    "SS2\n",
    "#matrix([[983.12413751, 130.66648596],[130.66648596,  17.8880256 ]])"
   ]
  },
  {
   "cell_type": "markdown",
   "id": "a3d55a23",
   "metadata": {},
   "source": [
    "First if we start with the initial guess \n",
    "$$ \\mu_{1|0} = \\begin{bmatrix} \n",
    "\\alpha_{1} \\\\\n",
    "\\beta_{1}\n",
    "\\end{bmatrix} = \\begin{bmatrix} 0\\\\0\\end{bmatrix}$$\n",
    "And the covariance of this state is intialized using the diffussion conditions:\n",
    "$$ \\Sigma_{1|0} = \\begin{bmatrix} 10000 & 0\\\\ 0 & 10000 \\end{bmatrix}$$\n",
    "The intial observation is $$ H'_1 = \\begin{bmatrix} 1 &  r_{1}^{M}\\end{bmatrix}= \\begin{bmatrix} 1 &  -7.52\\end{bmatrix} $$\n",
    "The recurssions start with the arrival of the first observation ($r_1 = -2.12$) computing the predition error:\n",
    "$$ v_1 = r_1 - \\begin{bmatrix} 1 &  -7.52\\end{bmatrix} \\begin{bmatrix} 0\\\\0\\end{bmatrix} = -2.12 $$\n",
    "Then prediction error is part due to the state innovations and the error predifined in the obsrevation equation:\n",
    "$$ V_1 = H'_1 \\Sigma_{1|0} H_1 + \\sigma^2_{\\epsilon} = \\begin{bmatrix} 1 &  -7.52\\end{bmatrix}\\begin{bmatrix} 10000 & 0\\\\ 0 & 10000 \\end{bmatrix}\\begin{bmatrix} 1 \\\\  -7.52\\end{bmatrix} + \\sigma^2_{\\epsilon} = 57551.1$$ \n",
    "Now given the prediction error and the prediction variance, the new informed guess of the state that combines these information is given by the optimal forecast:\n",
    "$$ \\mu_{1|1} = \\mu_{1|0} + \\frac{\\Sigma_{1|0} H_1 v_1}{V_1}  = \\begin{bmatrix} -0.0368 \\\\ 0.2770\\end{bmatrix}$$\n",
    "Also the state variance is also updated given these observation:\n",
    "$$ \\Sigma_{1|1} = \\Sigma_{1|0} - \\frac{\\Sigma'_{1|0} H_1 H'_1 \\Sigma_{1|0}}{V_1}$$\n",
    "Before the arrival of the new observation the state at the next timestamp can be predicted, this is a prediction conditioanl only on the past prior to the arrival of the new observables:\n",
    "$$ \\mu_{2|1} = \\mu_{1|1} $$\n",
    "$$ \\Sigma_{2|1} = \\Sigma_{2|1} + Q =  \\begin{bmatrix} 983.124 & 130.666\\\\ 130.666 & 17.888 \\end{bmatrix}$$\n",
    "$$Q =   \\begin{bmatrix} \n",
    "\\sigma_{\\eta_1}^{2} & 0\\\\\n",
    "0 & \\sigma_{\\eta_2}^{2}\n",
    "\\end{bmatrix} $$\n",
    "\n",
    "Notice the parameters $\\sigma^2_{\\epsilon}$,$\\sigma_{\\eta_1}^{2}$, $\\sigma_{\\eta_2}^{2}$ are unkown, the maximum likelihood estimator will first assign a guessed values to these parameters. In the sample calculations it was assumed that:\n",
    "$$ \\sigma^2_{\\epsilon} = 0.7 $$\n",
    "$$ \\sigma_{\\eta_1}^{2} = 0.5 $$\n",
    "$$ \\sigma_{\\eta_2}^{2} = 0.5 $$"
   ]
  },
  {
   "cell_type": "code",
   "execution_count": 18,
   "id": "b730f62d",
   "metadata": {},
   "outputs": [
    {
     "data": {
      "text/plain": [
       "matrix([[ 1.18378011, -0.01552823],\n",
       "        [-0.01552823,  1.004997  ]])"
      ]
     },
     "execution_count": 18,
     "metadata": {},
     "output_type": "execute_result"
    }
   ],
   "source": [
    "# continue:\n",
    "H2 = np.array([1, 0.21])\n",
    "H2 = np.matrix(H2)\n",
    "n2 = H2*SS2*np.transpose(H2) + 0.7\n",
    "g2 = SS2*np.transpose(H2)/(n2)\n",
    "v2 = data['GM'][1]- H2*mu1\n",
    "mu2 = mu1 + (SS2*np.transpose(H2)*v2)/n2\n",
    "mu2 #matrix([[8.66278823],\n",
    "       # [1.43421758]]) \n",
    "SS3 = Q + SS2 - (SS2*np.transpose(H2)*H2*np.transpose(SS2))/n2\n",
    "SS3 # matrix([[ 1.18378011, -0.01552823],\n",
    "       # [-0.01552823,  1.004997  ]])\n",
    "H3 = np.array([1, 1.77])\n",
    "H3 = np.matrix(H3)\n",
    "n3 = H3*SS3*np.transpose(H3) + 0.7\n",
    "g3 = SS3*np.transpose(H3)/(n3)\n",
    "v3 = data['GM'][2]- H3*mu2\n",
    "mu3 = mu2 + (SS3*np.transpose(H3)*v3)/n3\n",
    "SS4 = Q + SS3 - (SS3*np.transpose(H3)*H3*np.transpose(SS3))/n3\n",
    "SS4 #matrix([[ 1.41516039, -0.42516549],\n",
    "       # [-0.42516549,  0.8803121 ]])\n",
    "\n",
    "H4 = np.array([1, -3.34])\n",
    "H4 = np.matrix(H4)\n",
    "n4 = H4*SS4*np.transpose(H4) + 0.7\n",
    "g4 = SS4*np.transpose(H4)/(n4)\n",
    "v4 = data['GM'][3]- H4*mu3\n",
    "mu4 = mu3 + (SS4*np.transpose(H4)*v4)/n4\n",
    "# matrix([[4.40162848],\n",
    "      #  [2.2134502 ]])\n",
    "\n",
    "SS5 = Q + SS4 - (SS4*np.transpose(H4)*H4*np.transpose(SS4))/n4\n",
    "SS5 #matrix([[1.28843645, 0.19896988],\n",
    "      #  [0.19896988, 0.60857518]])\n",
    "SS3\n",
    "      \n",
    "\n"
   ]
  },
  {
   "cell_type": "markdown",
   "id": "8d1d013e",
   "metadata": {},
   "source": [
    "The second observation of the covariates is $$ H'_1 = \\begin{bmatrix} 1 &  r_{2}^{M}\\end{bmatrix}= \\begin{bmatrix} 1 &  0.21\\end{bmatrix} $$\n",
    "The recurssions wiil contine with the arrival of the second observation of the dependent variable ($r_2 = 8.97$) computing the predition error:\n",
    "$$ V_2 = H'_2 \\Sigma_{2|1} H_2 + \\sigma^2_{\\epsilon} = \\begin{bmatrix} 1 &  0.21\\end{bmatrix}\\begin{bmatrix} 983.124 & 130.666\\\\ 130.666 & 17.888 \\end{bmatrix}\\begin{bmatrix} 1 \\\\  0.21\\end{bmatrix} + \\sigma^2_{\\epsilon} = 1039.492$$ \n",
    "The state conditions are again updated:\n",
    "$$ \\mu_{2|2} = \\mu_{2|1} + \\frac{\\Sigma_{2|1} H_2 v_2}{V_2} $$\n",
    "$$ \\Sigma_{2|2} = \\Sigma_{2|1} - \\frac{\\Sigma'_{2|1} H_2 H'_2 \\Sigma_{2|1}}{V_2}$$\n",
    "And as before, prior to the arrival of the third observation ($r_3$) the state forecast is:\n",
    "$$ \\mu_{3|2} = \\mu_{2|2} $$\n",
    "$$ \\Sigma_{3|2} = \\Sigma_{3|2} + Q  = \\begin{bmatrix} 1.1837 & -0.0155\\\\ -0.0155 & 1.0049 \\end{bmatrix} $$\n",
    "\n",
    "The steps are repeated all the way up to the final observation $T = 168$, where the parameters are changed and their likelihood is evaluated over all the observations untill the maximum is reached."
   ]
  },
  {
   "cell_type": "code",
   "execution_count": 8,
   "id": "7877c5e9",
   "metadata": {},
   "outputs": [],
   "source": [
    "def log_likelihood(p,y,x):\n",
    "    sigma_eps2 = p[0]\n",
    "    sigma_eta12 = p[1]\n",
    "    sigma_eta22 = p[2]\n",
    "    v = np.zeros(len(y))\n",
    "    mu = []\n",
    "    mup = []\n",
    "    V =  np.zeros(len(y))\n",
    "    S_var = []\n",
    "    K = []\n",
    "    Q = np.array([[sigma_eta12,0],[0,sigma_eta22]])\n",
    "    Q = np.matrix(Q)\n",
    "    S_var.append(np.matrix('100000,0;0,100000'))\n",
    "    H0 = np.matrix(np.array([1,x[0]]))\n",
    "    mup.append(np.matrix('0;0'))\n",
    "    v[0] = y[0]- H0*mup[0]\n",
    "    V[0] =  H0*S_var[0]*np.transpose(H0) + sigma_eps2\n",
    "    K.append(S_var[0]*np.transpose(H0)/V[0])\n",
    "\n",
    "\n",
    "    for i in range(len(y)-1):\n",
    "        H_t = np.matrix(np.array([1,x[i]]))\n",
    "        mu.append(mup[i] + np.array(K[i])*v[i])\n",
    "        S_var.append(Q + S_var[i] - S_var[i]*np.transpose(H_t)*H_t*np.transpose(S_var[i])/V[i])\n",
    "        H_t1 = np.matrix(np.array([1,x[i+1]]))\n",
    "        mup.append(mu[i])\n",
    "        v[i+1] = y[i+1] - H_t1*mup[i+1]\n",
    "        V[i+1] =  H_t1*S_var[i+1]*np.transpose(H_t1)+ sigma_eps2\n",
    "        K.append(S_var[i+1]*np.transpose(H_t1)/V[i+1])\n",
    "\n",
    "    l = -0.5*(len(y))*np.log(2*np.pi) - 0.5*np.sum(np.log(V)) - 0.5*np.sum((v**2)/V)\n",
    "    return -l"
   ]
  },
  {
   "cell_type": "code",
   "execution_count": 9,
   "id": "f4fd04f8",
   "metadata": {},
   "outputs": [
    {
     "data": {
      "text/plain": [
       "698.6209281580909"
      ]
     },
     "execution_count": 9,
     "metadata": {},
     "output_type": "execute_result"
    }
   ],
   "source": [
    "#Test the likelihood function:\n",
    "p0 = [8,4,4]\n",
    "ll = log_likelihood(p0, data['GM'], data['SP5'])\n",
    "ll"
   ]
  },
  {
   "cell_type": "code",
   "execution_count": 10,
   "id": "45a37111",
   "metadata": {},
   "outputs": [],
   "source": [
    "def constraint(p):\n",
    "    sigma_eps2 = p[0]\n",
    "    sigma_eta12 = p[1]\n",
    "    sigma_eta22 = p[2]\n",
    "    return sigma_eps2,sigma_eta12,sigma_eta22\n",
    "\n",
    "cons = { 'type' :'ineq' , 'fun' : constraint}"
   ]
  },
  {
   "cell_type": "code",
   "execution_count": 11,
   "id": "eee7fe33",
   "metadata": {},
   "outputs": [
    {
     "data": {
      "text/plain": [
       " message: Optimization terminated successfully\n",
       " success: True\n",
       "  status: 0\n",
       "     fun: 603.3406621822794\n",
       "       x: [ 6.601e+01  1.114e-08  1.491e-04]\n",
       "     nit: 18\n",
       "     jac: [ 1.068e-04  2.544e+01  4.697e-02]\n",
       "    nfev: 84\n",
       "    njev: 18"
      ]
     },
     "execution_count": 11,
     "metadata": {},
     "output_type": "execute_result"
    }
   ],
   "source": [
    "minimize(log_likelihood, p0, args= (data['GM'], data['SP5']), constraints= cons, options={\"maxiter\": 1500})"
   ]
  },
  {
   "cell_type": "code",
   "execution_count": 21,
   "id": "e119a035",
   "metadata": {},
   "outputs": [
    {
     "data": {
      "text/plain": [
       "0.01221065108829173"
      ]
     },
     "execution_count": 21,
     "metadata": {},
     "output_type": "execute_result"
    }
   ],
   "source": [
    "np.sqrt( 1.491e-04 )"
   ]
  },
  {
   "cell_type": "markdown",
   "id": "0c625d8b",
   "metadata": {},
   "source": [
    "The maximum likelihood estimates of the parameters are:\n",
    "$$ \\hat{\\sigma_{\\epsilon}} = 8.124 $$\n",
    "$$ \\hat{\\sigma_{\\eta_1}} = 0.000105 $$\n",
    "$$ \\hat{\\sigma_{\\eta_2}} = 0.012 $$\n",
    "The state noise is very small compared to the observation error, suggesting that the OLS regression is sufficient in the sense that market coefficients are not dynamic!"
   ]
  },
  {
   "cell_type": "code",
   "execution_count": 47,
   "id": "18195334",
   "metadata": {},
   "outputs": [
    {
     "data": {
      "image/png": "[encoded data removed]",
      "text/plain": [
       "<Figure size 2000x500 with 6 Axes>"
      ]
     },
     "metadata": {},
     "output_type": "display_data"
    }
   ],
   "source": [
    "j = 0\n",
    "fig, axes = plt.subplots(1, 6, figsize=(20, 5))\n",
    "for i in range(6):\n",
    "    y = data['GM'][0+j: 28 + j]\n",
    "    x = sm.add_constant(data['SP5'][0+j: 28 + j])\n",
    "    model = sm.OLS(y, x).fit()\n",
    "    a= model.params[0]\n",
    "    b = model.params[1]\n",
    "    axes[i].scatter(data['SP5'][0+j: 28 + j],data['GM'][0+j: 28 + j],color= 'green')\n",
    "    axes[i].set_xlabel('Market returns')\n",
    "    axes[i].set_ylabel('GM returns')\n",
    "    axes[i].plot(data['SP5'][0+j: 28 + j], a + b*data['SP5'][0+j: 28 + j] )\n",
    "    axes[i].set_title(f'The {i+1}th window of observations ')\n",
    "    j = j + 28\n",
    "    \n",
    "plt.show()\n"
   ]
  },
  {
   "cell_type": "markdown",
   "id": "987bee95",
   "metadata": {},
   "source": [
    "The conclusion sited before about the regression parameters being approximately constant over time (static and no need for the time subscript) can be visually inspected by watching how the slope of the line is almost the same when a window of 28 observations is used to run the regression. "
   ]
  }
 ],
 "metadata": {
  "kernelspec": {
   "display_name": "base",
   "language": "python",
   "name": "python3"
  },
  "language_info": {
   "codemirror_mode": {
    "name": "ipython",
    "version": 3
   },
   "file_extension": ".py",
   "mimetype": "text/x-python",
   "name": "python",
   "nbconvert_exporter": "python",
   "pygments_lexer": "ipython3",
   "version": "3.10.9"
  }
 },
 "nbformat": 4,
 "nbformat_minor": 5
}
