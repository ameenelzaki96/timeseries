{
 "cells": [
  {
   "cell_type": "markdown",
   "metadata": {},
   "source": [
    "In the event that a video creator's content is deemed inappropriate by YouTube—for example, due to content that is sensitive to children, uses vulgar language, or advertises firearms—the creator will be permanently banned from the platform upon channel deletion.\n",
    "\n",
    "Rumble emerged as an alternative video streaming platform with fewer regulations, and many content creators have moved to it.\n",
    "\n",
    "In this notebook, the voltaility of Rumbled is investigated using the well-known ARCH(1) model, and the results are compared to the implied voltality of call options involving Rumble.  The Black-Scholes formula is used to calculate implied voltality.  Once the observed price of the call/put option is known, the formula can calculate the implied voltality that the trading platform used to price the option."
   ]
  },
  {
   "cell_type": "code",
   "execution_count": 46,
   "metadata": {},
   "outputs": [],
   "source": [
    "import numpy as np\n",
    "import matplotlib.pyplot as plt\n",
    "import pandas as pd\n",
    "from scipy.stats import norm\n",
    "from scipy.optimize import minimize"
   ]
  },
  {
   "cell_type": "markdown",
   "metadata": {},
   "source": [
    "Rumble stock prices from 1st of January 2022 to the 16th of May 2025 is obtained from investing.com:"
   ]
  },
  {
   "cell_type": "code",
   "execution_count": 47,
   "metadata": {},
   "outputs": [
    {
     "data": {
      "text/html": [
       "<div>\n",
       "<style scoped>\n",
       "    .dataframe tbody tr th:only-of-type {\n",
       "        vertical-align: middle;\n",
       "    }\n",
       "\n",
       "    .dataframe tbody tr th {\n",
       "        vertical-align: top;\n",
       "    }\n",
       "\n",
       "    .dataframe thead th {\n",
       "        text-align: right;\n",
       "    }\n",
       "</style>\n",
       "<table border=\"1\" class=\"dataframe\">\n",
       "  <thead>\n",
       "    <tr style=\"text-align: right;\">\n",
       "      <th></th>\n",
       "      <th>Date</th>\n",
       "      <th>Price</th>\n",
       "      <th>Open</th>\n",
       "      <th>High</th>\n",
       "      <th>Low</th>\n",
       "      <th>Vol.</th>\n",
       "      <th>Change %</th>\n",
       "    </tr>\n",
       "  </thead>\n",
       "  <tbody>\n",
       "    <tr>\n",
       "      <th>0</th>\n",
       "      <td>1/3/2022</td>\n",
       "      <td>11.25</td>\n",
       "      <td>11.02</td>\n",
       "      <td>11.47</td>\n",
       "      <td>10.77</td>\n",
       "      <td>2.23M</td>\n",
       "      <td>3.88%</td>\n",
       "    </tr>\n",
       "    <tr>\n",
       "      <th>1</th>\n",
       "      <td>1/4/2022</td>\n",
       "      <td>11.48</td>\n",
       "      <td>11.37</td>\n",
       "      <td>11.62</td>\n",
       "      <td>11.11</td>\n",
       "      <td>1.75M</td>\n",
       "      <td>2.04%</td>\n",
       "    </tr>\n",
       "    <tr>\n",
       "      <th>2</th>\n",
       "      <td>1/5/2022</td>\n",
       "      <td>11.92</td>\n",
       "      <td>11.49</td>\n",
       "      <td>12.56</td>\n",
       "      <td>11.39</td>\n",
       "      <td>4.41M</td>\n",
       "      <td>3.83%</td>\n",
       "    </tr>\n",
       "    <tr>\n",
       "      <th>3</th>\n",
       "      <td>1/6/2022</td>\n",
       "      <td>12.17</td>\n",
       "      <td>12.00</td>\n",
       "      <td>12.41</td>\n",
       "      <td>11.20</td>\n",
       "      <td>4.40M</td>\n",
       "      <td>2.10%</td>\n",
       "    </tr>\n",
       "    <tr>\n",
       "      <th>4</th>\n",
       "      <td>1/7/2022</td>\n",
       "      <td>11.62</td>\n",
       "      <td>11.89</td>\n",
       "      <td>12.10</td>\n",
       "      <td>11.56</td>\n",
       "      <td>1.98M</td>\n",
       "      <td>-4.52%</td>\n",
       "    </tr>\n",
       "  </tbody>\n",
       "</table>\n",
       "</div>"
      ],
      "text/plain": [
       "       Date  Price   Open   High    Low   Vol. Change %\n",
       "0  1/3/2022  11.25  11.02  11.47  10.77  2.23M    3.88%\n",
       "1  1/4/2022  11.48  11.37  11.62  11.11  1.75M    2.04%\n",
       "2  1/5/2022  11.92  11.49  12.56  11.39  4.41M    3.83%\n",
       "3  1/6/2022  12.17  12.00  12.41  11.20  4.40M    2.10%\n",
       "4  1/7/2022  11.62  11.89  12.10  11.56  1.98M   -4.52%"
      ]
     },
     "execution_count": 47,
     "metadata": {},
     "output_type": "execute_result"
    }
   ],
   "source": [
    "data = pd.read_csv('Rumble Stock Price History.csv') # Importing the dataframe\n",
    "data.head(5)"
   ]
  },
  {
   "cell_type": "code",
   "execution_count": 48,
   "metadata": {},
   "outputs": [
    {
     "data": {
      "text/plain": [
       "Date         object\n",
       "Price       float64\n",
       "Open        float64\n",
       "High        float64\n",
       "Low         float64\n",
       "Vol.         object\n",
       "Change %    float64\n",
       "dtype: object"
      ]
     },
     "execution_count": 48,
     "metadata": {},
     "output_type": "execute_result"
    }
   ],
   "source": [
    "data['Change %'] =data['Change %'].str.replace('%','').astype(float) # adjusting column types\n",
    "data['Change %'] =data['Change %']\n",
    "data['Price'] = data['Price'].astype(float)\n",
    "data.dtypes"
   ]
  },
  {
   "cell_type": "code",
   "execution_count": 49,
   "metadata": {},
   "outputs": [
    {
     "data": {
      "text/html": [
       "<div>\n",
       "<style scoped>\n",
       "    .dataframe tbody tr th:only-of-type {\n",
       "        vertical-align: middle;\n",
       "    }\n",
       "\n",
       "    .dataframe tbody tr th {\n",
       "        vertical-align: top;\n",
       "    }\n",
       "\n",
       "    .dataframe thead th {\n",
       "        text-align: right;\n",
       "    }\n",
       "</style>\n",
       "<table border=\"1\" class=\"dataframe\">\n",
       "  <thead>\n",
       "    <tr style=\"text-align: right;\">\n",
       "      <th></th>\n",
       "      <th>Date</th>\n",
       "      <th>Price</th>\n",
       "      <th>Open</th>\n",
       "      <th>High</th>\n",
       "      <th>Low</th>\n",
       "      <th>Vol.</th>\n",
       "      <th>Change %</th>\n",
       "    </tr>\n",
       "  </thead>\n",
       "  <tbody>\n",
       "    <tr>\n",
       "      <th>0</th>\n",
       "      <td>1/3/2022</td>\n",
       "      <td>11.25</td>\n",
       "      <td>11.02</td>\n",
       "      <td>11.47</td>\n",
       "      <td>10.77</td>\n",
       "      <td>2.23M</td>\n",
       "      <td>3.88</td>\n",
       "    </tr>\n",
       "    <tr>\n",
       "      <th>1</th>\n",
       "      <td>1/4/2022</td>\n",
       "      <td>11.48</td>\n",
       "      <td>11.37</td>\n",
       "      <td>11.62</td>\n",
       "      <td>11.11</td>\n",
       "      <td>1.75M</td>\n",
       "      <td>2.04</td>\n",
       "    </tr>\n",
       "    <tr>\n",
       "      <th>2</th>\n",
       "      <td>1/5/2022</td>\n",
       "      <td>11.92</td>\n",
       "      <td>11.49</td>\n",
       "      <td>12.56</td>\n",
       "      <td>11.39</td>\n",
       "      <td>4.41M</td>\n",
       "      <td>3.83</td>\n",
       "    </tr>\n",
       "    <tr>\n",
       "      <th>3</th>\n",
       "      <td>1/6/2022</td>\n",
       "      <td>12.17</td>\n",
       "      <td>12.00</td>\n",
       "      <td>12.41</td>\n",
       "      <td>11.20</td>\n",
       "      <td>4.40M</td>\n",
       "      <td>2.10</td>\n",
       "    </tr>\n",
       "    <tr>\n",
       "      <th>4</th>\n",
       "      <td>1/7/2022</td>\n",
       "      <td>11.62</td>\n",
       "      <td>11.89</td>\n",
       "      <td>12.10</td>\n",
       "      <td>11.56</td>\n",
       "      <td>1.98M</td>\n",
       "      <td>-4.52</td>\n",
       "    </tr>\n",
       "  </tbody>\n",
       "</table>\n",
       "</div>"
      ],
      "text/plain": [
       "       Date  Price   Open   High    Low   Vol.  Change %\n",
       "0  1/3/2022  11.25  11.02  11.47  10.77  2.23M      3.88\n",
       "1  1/4/2022  11.48  11.37  11.62  11.11  1.75M      2.04\n",
       "2  1/5/2022  11.92  11.49  12.56  11.39  4.41M      3.83\n",
       "3  1/6/2022  12.17  12.00  12.41  11.20  4.40M      2.10\n",
       "4  1/7/2022  11.62  11.89  12.10  11.56  1.98M     -4.52"
      ]
     },
     "execution_count": 49,
     "metadata": {},
     "output_type": "execute_result"
    }
   ],
   "source": [
    "data.head(5)"
   ]
  },
  {
   "cell_type": "code",
   "execution_count": 50,
   "metadata": {},
   "outputs": [
    {
     "data": {
      "text/plain": [
       "[<matplotlib.lines.Line2D at 0x1c1d03e7ee0>]"
      ]
     },
     "execution_count": 50,
     "metadata": {},
     "output_type": "execute_result"
    },
    {
     "data": {
      "image/png": "[encoded data removed]",
      "text/plain": [
       "<Figure size 640x480 with 1 Axes>"
      ]
     },
     "metadata": {},
     "output_type": "display_data"
    }
   ],
   "source": [
    "plt.plot(np.arange(len(data['Change %'])), data['Change %'])"
   ]
  },
  {
   "cell_type": "markdown",
   "metadata": {},
   "source": [
    "The Exponential moving average is usually used to obtain an estimate of the voltality.\n",
    "First, the sample average of returns $\\bar r$ is calculated, then the square of excess returns is treated as the historical voltality, i.e., $(r_t - \\bar r)^2$"
   ]
  },
  {
   "cell_type": "code",
   "execution_count": 51,
   "metadata": {},
   "outputs": [
    {
     "data": {
      "text/plain": [
       "36.07529051090097"
      ]
     },
     "execution_count": 51,
     "metadata": {},
     "output_type": "execute_result"
    }
   ],
   "source": [
    "r_t = (data['Change %'] - data['Change %'].mean())**2 \n",
    "r_t.mean()"
   ]
  },
  {
   "cell_type": "markdown",
   "metadata": {},
   "source": [
    "Most of the times $\\bar r$ is set equal to zero, this is especially true in our case where the estimate obtained is very close to zero.\n",
    "$$\\bar r = 0.157 \\% $$"
   ]
  },
  {
   "cell_type": "markdown",
   "metadata": {},
   "source": [
    "The EWMA reconstructed series of squared excess returns is given by:\n",
    "$$ \\sigma^2_{t} = (1- \\lambda) \\sum{\\lambda_{j} (r_{t-j} - \\bar r)^2} $$\n",
    "\n",
    "As mentioned in Brooks textbook, the decay factor $\\lambda$ is set equal to 0.94 as a popular software for risk assessment suggests.\n",
    "\n",
    "The estimated voltalit is the value of the filtered series at the end of the sample, that is $\\sigma^2_{T}$\n",
    "\n",
    "$$\\sigma_{Daily,EWMA} = \\sqrt{\\sigma^2_{T}} = 5.836 \\% $$"
   ]
  },
  {
   "cell_type": "code",
   "execution_count": 52,
   "metadata": {},
   "outputs": [
    {
     "data": {
      "text/plain": [
       "5.836839669917113"
      ]
     },
     "execution_count": 52,
     "metadata": {},
     "output_type": "execute_result"
    }
   ],
   "source": [
    "sigma_sq = np.zeros(len(r_t)) # Create a series of zeros\n",
    "sigma_sq[0] = r_t[0] # initialize the series with first observation\n",
    "for i in range (len(r_t) - 1):\n",
    "    sigma_sq[i+1] = (1-0.94)*r_t[i+1] + 0.94*sigma_sq[i]\n",
    "\n",
    "np.sqrt(sigma_sq[len(r_t)-1]) # the last value of the filtered series of squared excess returns\n"
   ]
  },
  {
   "cell_type": "markdown",
   "metadata": {},
   "source": [
    "The ARCH(1) model:\n",
    "\n",
    "ARCH model places a constraint on the residuals of the returns, assuming that they are linaer projections of their past.\n",
    "\n",
    "$$ r_t = \\mu + \\epsilon_t $$\n",
    "Instead of assuming $\\epsilon_t$ being  a white noise, the conditional distribution of $\\epsilon_t$ is given by:\n",
    "\n",
    "$$ \\epsilon_t = \\sqrt h_t * v_t $$\n",
    "Where $v_t$ is a gaussian distributed as N(0,1), and $ h_t = \\alpha_0 + \\alpha_1 \\epsilon_{t-1} $\n",
    "\n",
    "This assumptions has implications on the likelihood of $r_t$ which is now a gaussian with mean $\\mu$ and variance $h_t$\n",
    "\n",
    "$$ \\ell(r_t;\\bold{\\theta}) = -\\frac{T}{2}\\log(2\\pi) - \\frac{T}{2}\\sum{\\log(h_t)}  - \\frac{1}{2} \\sum{\\frac{(r_t - \\mu)}{h_t}}  $$"
   ]
  },
  {
   "cell_type": "code",
   "execution_count": 53,
   "metadata": {},
   "outputs": [],
   "source": [
    "#Estimating the coefficients and the carry-over parameter:\n",
    "#The likelihood function:\n",
    "def log_likelihood(p,y):\n",
    "    mu_hat = p[0]\n",
    "    alpha0_hat = p[1]\n",
    "    alpha1_hat = p[2]\n",
    "    y_star = (y - mu_hat)**2\n",
    "    h = np.zeros(len(y))\n",
    "    h[0] = y_star[0]#initializing the error term\n",
    "    for i in range(len(y)-1):\n",
    "      h[i+1] = alpha0_hat + alpha1_hat*y_star[i] \n",
    "\n",
    "    l = -0.5*(len(y))*np.log(2*np.pi) - 0.5*np.sum(np.log(h))- np.sum((y - mu_hat)**2/(2*h))\n",
    "    return -l\n"
   ]
  },
  {
   "cell_type": "code",
   "execution_count": 54,
   "metadata": {},
   "outputs": [
    {
     "data": {
      "text/plain": [
       "15260.438462170361"
      ]
     },
     "execution_count": 54,
     "metadata": {},
     "output_type": "execute_result"
    }
   ],
   "source": [
    "p0 = [0.15,0.37,0.13]\n",
    "ll = log_likelihood(p0, data['Change %'])\n",
    "ll"
   ]
  },
  {
   "cell_type": "code",
   "execution_count": 55,
   "metadata": {},
   "outputs": [],
   "source": [
    "def constraint(p):\n",
    "    alpha0_hat = p[1]\n",
    "    alpha1_hat = p[2]\n",
    "    return alpha0_hat, alpha1_hat\n",
    "\n",
    "cons = { 'type' :'ineq' , 'fun' : constraint}"
   ]
  },
  {
   "cell_type": "code",
   "execution_count": 56,
   "metadata": {},
   "outputs": [
    {
     "data": {
      "text/plain": [
       " message: Optimization terminated successfully\n",
       " success: True\n",
       "  status: 0\n",
       "     fun: 2698.163769186841\n",
       "       x: [ 1.042e-01  3.149e+01  1.363e-01]\n",
       "     nit: 25\n",
       "     jac: [ 7.935e-04  1.221e-04  4.181e-03]\n",
       "    nfev: 119\n",
       "    njev: 25"
      ]
     },
     "execution_count": 56,
     "metadata": {},
     "output_type": "execute_result"
    }
   ],
   "source": [
    "minimize(log_likelihood, p0, args= (data['Change %']), constraints= cons, options={\"maxiter\": 1000} )"
   ]
  },
  {
   "cell_type": "markdown",
   "metadata": {},
   "source": [
    "The unconditional variance as given by the ARCH(1) model is given by:\n",
    "\n",
    "$$ \\sigma^2 = \\frac{\\alpha_0}{1- \\alpha_1} $$\n",
    "\n",
    "And the estimated daily voltality will be:\n",
    "\n",
    "$$ \\sigma_{Daily,ARCH} = \\sqrt{\\sigma^2_{ARCH}} $$"
   ]
  },
  {
   "cell_type": "code",
   "execution_count": 57,
   "metadata": {},
   "outputs": [
    {
     "data": {
      "text/plain": [
       "6.038163527072521"
      ]
     },
     "execution_count": 57,
     "metadata": {},
     "output_type": "execute_result"
    }
   ],
   "source": [
    "# The unconditional voltality:\n",
    "sigma_sq_uncon = np.sqrt(3.149e+01/(1-1.363e-01))\n",
    "sigma_sq_uncon"
   ]
  },
  {
   "cell_type": "code",
   "execution_count": 58,
   "metadata": {},
   "outputs": [
    {
     "data": {
      "text/html": [
       "<div>\n",
       "<style scoped>\n",
       "    .dataframe tbody tr th:only-of-type {\n",
       "        vertical-align: middle;\n",
       "    }\n",
       "\n",
       "    .dataframe tbody tr th {\n",
       "        vertical-align: top;\n",
       "    }\n",
       "\n",
       "    .dataframe thead th {\n",
       "        text-align: right;\n",
       "    }\n",
       "</style>\n",
       "<table border=\"1\" class=\"dataframe\">\n",
       "  <thead>\n",
       "    <tr style=\"text-align: right;\">\n",
       "      <th></th>\n",
       "      <th>Date</th>\n",
       "      <th>Price</th>\n",
       "      <th>Open</th>\n",
       "      <th>High</th>\n",
       "      <th>Low</th>\n",
       "      <th>Vol.</th>\n",
       "      <th>Change %</th>\n",
       "    </tr>\n",
       "  </thead>\n",
       "  <tbody>\n",
       "    <tr>\n",
       "      <th>0</th>\n",
       "      <td>1/3/2022</td>\n",
       "      <td>11.25</td>\n",
       "      <td>11.02</td>\n",
       "      <td>11.47</td>\n",
       "      <td>10.77</td>\n",
       "      <td>2.23M</td>\n",
       "      <td>3.88</td>\n",
       "    </tr>\n",
       "    <tr>\n",
       "      <th>1</th>\n",
       "      <td>1/4/2022</td>\n",
       "      <td>11.48</td>\n",
       "      <td>11.37</td>\n",
       "      <td>11.62</td>\n",
       "      <td>11.11</td>\n",
       "      <td>1.75M</td>\n",
       "      <td>2.04</td>\n",
       "    </tr>\n",
       "    <tr>\n",
       "      <th>2</th>\n",
       "      <td>1/5/2022</td>\n",
       "      <td>11.92</td>\n",
       "      <td>11.49</td>\n",
       "      <td>12.56</td>\n",
       "      <td>11.39</td>\n",
       "      <td>4.41M</td>\n",
       "      <td>3.83</td>\n",
       "    </tr>\n",
       "    <tr>\n",
       "      <th>3</th>\n",
       "      <td>1/6/2022</td>\n",
       "      <td>12.17</td>\n",
       "      <td>12.00</td>\n",
       "      <td>12.41</td>\n",
       "      <td>11.20</td>\n",
       "      <td>4.40M</td>\n",
       "      <td>2.10</td>\n",
       "    </tr>\n",
       "    <tr>\n",
       "      <th>4</th>\n",
       "      <td>1/7/2022</td>\n",
       "      <td>11.62</td>\n",
       "      <td>11.89</td>\n",
       "      <td>12.10</td>\n",
       "      <td>11.56</td>\n",
       "      <td>1.98M</td>\n",
       "      <td>-4.52</td>\n",
       "    </tr>\n",
       "  </tbody>\n",
       "</table>\n",
       "</div>"
      ],
      "text/plain": [
       "       Date  Price   Open   High    Low   Vol.  Change %\n",
       "0  1/3/2022  11.25  11.02  11.47  10.77  2.23M      3.88\n",
       "1  1/4/2022  11.48  11.37  11.62  11.11  1.75M      2.04\n",
       "2  1/5/2022  11.92  11.49  12.56  11.39  4.41M      3.83\n",
       "3  1/6/2022  12.17  12.00  12.41  11.20  4.40M      2.10\n",
       "4  1/7/2022  11.62  11.89  12.10  11.56  1.98M     -4.52"
      ]
     },
     "execution_count": 58,
     "metadata": {},
     "output_type": "execute_result"
    }
   ],
   "source": [
    "data.head(5)"
   ]
  },
  {
   "cell_type": "markdown",
   "metadata": {},
   "source": [
    "At 16/5/2025 the implied volatlity on a call option on Rumble expiring at 30/5/2025 at a strike price of 6 USD and trading at 4.5 USD was 192.97%\n",
    "\n",
    "The volatlity estimated through the ARCH(1) model was 6.038%, but this is a voltality estimated on daily basis.\n",
    "\n",
    "A huerstic solution (https://gregorygundersen.com/blog/2022/05/24/square-root-of-time-rule/) can be found by placing few assumptions on the random variable $ Y_T $ that is formed by the sum of i.i.d random variables, i.e, $ X_i $\n",
    "$$ Y_T =  X_{1} + X_{2} + X_{3} + X_{4} + ... + X_{T}  $$\n",
    "\n",
    "Here the ${X_i}$ represent the sequence of daily returns, and $Y_T$ might be monthly returns, weekly or even yearly. Any lower frequency than the original one for which the model for voltality was developed.\n",
    "$$ Var [Y_T] =  Var [ \\sum{X_i} ] = \\sum[Var[X_i]]  = T Var[X_i] $$\n",
    "\n",
    "Therefore, under the assumption of returns being drawn from an i.i.d distribution, the estimate of the daily voltality can be rescaled. In our case, annually there are 252 trading days in a year (T = 252).\n",
    "\n",
    "$$ \\sigma_{Annual,ARCH} =  \\sqrt{T} \\sigma_{Daily,ARCH} $$\n",
    "\n",
    "$$ \\sigma_{Annual,ARCH} =  \\sqrt{252} * 6.038 \\%  = 95.852 \\%$$\n"
   ]
  },
  {
   "cell_type": "code",
   "execution_count": 59,
   "metadata": {},
   "outputs": [
    {
     "data": {
      "text/plain": [
       "95.85287440904709"
      ]
     },
     "execution_count": 59,
     "metadata": {},
     "output_type": "execute_result"
    }
   ],
   "source": [
    "sigma_sq_uncon*np.sqrt(252)"
   ]
  },
  {
   "cell_type": "markdown",
   "metadata": {},
   "source": [
    "Comments: The annualized volatility as given by the ARCH(1) model seems to be sigficantly underestimated as compared to the estimates used in options valuations!"
   ]
  }
 ],
 "metadata": {
  "kernelspec": {
   "display_name": "base",
   "language": "python",
   "name": "python3"
  },
  "language_info": {
   "codemirror_mode": {
    "name": "ipython",
    "version": 3
   },
   "file_extension": ".py",
   "mimetype": "text/x-python",
   "name": "python",
   "nbconvert_exporter": "python",
   "pygments_lexer": "ipython3",
   "version": "3.10.9"
  }
 },
 "nbformat": 4,
 "nbformat_minor": 2
}
