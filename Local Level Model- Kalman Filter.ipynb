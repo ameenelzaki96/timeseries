{
 "cells": [
  {
   "cell_type": "markdown",
   "metadata": {},
   "source": [
    "In this simple demonstration the realized voltality of the Alcoa stock is used as a mean toward verifying the results obtained here are conforming to the results obtained by the author in the textbook:\n",
    " Analysis of Financial Time Series by R.S. TSAY \n",
    "\n",
    "The text file for the data can be downloaded from\n",
    "\n",
    " https://faculty.chicagobooth.edu/ruey-s-tsay/research/analysis-of-financial-time-series-3rd-edition\n",
    "\n",
    "Realized voltality is when the log returns of the asset at high frequencey (usually minutes) are used to estimate the daily voltality of the asset.\n",
    "\n",
    "Here the sequence of the high frequency log returns $ \\{ r_{t,i}\\} $ where t is the number of days, and i is the index used for the high frequency period, in this case it is the 10-minutes returns. The sequence is i.i.d drawn from a normal with mean zero and finite variance.\n",
    "\n",
    "The daily return is given by $ r_{t} = \\sum_{i = 1}^{n}{r_{t,i}} $.\n",
    "\n",
    "The estimated realized daily voltality is given by the sample average of the 10-mins log returns.\n",
    "$$ RV_t = \\sum_{i = 1}^{n}{r_{t,i}^2},$$\n",
    "\n",
    "Again the distribution of this $\\{ RV_t \\}_{t =1}^{T}$ is still not known, but limited experinece indicate that $\\{ln RV_t\\}_{t=1}^{T}$ is Gaussian, that is the logaritms of realized voltality behaves as a Gaussian."
   ]
  },
  {
   "cell_type": "code",
   "execution_count": 1,
   "metadata": {},
   "outputs": [],
   "source": [
    "import numpy as np\n",
    "import matplotlib.pyplot as plt\n",
    "import pandas as pd\n",
    "import seaborn as sns\n",
    "import statsmodels.api as sm\n",
    "from scipy.stats import norm\n",
    "from scipy.optimize import minimize"
   ]
  },
  {
   "cell_type": "code",
   "execution_count": 3,
   "metadata": {},
   "outputs": [
    {
     "data": {
      "text/html": [
       "<div>\n",
       "<style scoped>\n",
       "    .dataframe tbody tr th:only-of-type {\n",
       "        vertical-align: middle;\n",
       "    }\n",
       "\n",
       "    .dataframe tbody tr th {\n",
       "        vertical-align: top;\n",
       "    }\n",
       "\n",
       "    .dataframe thead th {\n",
       "        text-align: right;\n",
       "    }\n",
       "</style>\n",
       "<table border=\"1\" class=\"dataframe\">\n",
       "  <thead>\n",
       "    <tr style=\"text-align: right;\">\n",
       "      <th></th>\n",
       "      <th>Index</th>\n",
       "      <th>5-mins</th>\n",
       "      <th>10-mins</th>\n",
       "      <th>20-mins</th>\n",
       "    </tr>\n",
       "  </thead>\n",
       "  <tbody>\n",
       "    <tr>\n",
       "      <th>0</th>\n",
       "      <td>1</td>\n",
       "      <td>3.3635</td>\n",
       "      <td>3.4745</td>\n",
       "      <td>3.0692</td>\n",
       "    </tr>\n",
       "    <tr>\n",
       "      <th>1</th>\n",
       "      <td>2</td>\n",
       "      <td>4.3848</td>\n",
       "      <td>4.1470</td>\n",
       "      <td>6.7121</td>\n",
       "    </tr>\n",
       "    <tr>\n",
       "      <th>2</th>\n",
       "      <td>3</td>\n",
       "      <td>1.5408</td>\n",
       "      <td>1.2124</td>\n",
       "      <td>0.5711</td>\n",
       "    </tr>\n",
       "    <tr>\n",
       "      <th>3</th>\n",
       "      <td>4</td>\n",
       "      <td>1.7437</td>\n",
       "      <td>1.8723</td>\n",
       "      <td>2.1220</td>\n",
       "    </tr>\n",
       "    <tr>\n",
       "      <th>4</th>\n",
       "      <td>5</td>\n",
       "      <td>107.0411</td>\n",
       "      <td>11.0797</td>\n",
       "      <td>14.5181</td>\n",
       "    </tr>\n",
       "    <tr>\n",
       "      <th>5</th>\n",
       "      <td>6</td>\n",
       "      <td>3.3061</td>\n",
       "      <td>3.2015</td>\n",
       "      <td>3.3030</td>\n",
       "    </tr>\n",
       "    <tr>\n",
       "      <th>6</th>\n",
       "      <td>7</td>\n",
       "      <td>5.7399</td>\n",
       "      <td>5.8178</td>\n",
       "      <td>2.7650</td>\n",
       "    </tr>\n",
       "    <tr>\n",
       "      <th>7</th>\n",
       "      <td>8</td>\n",
       "      <td>3.0006</td>\n",
       "      <td>2.1940</td>\n",
       "      <td>1.9447</td>\n",
       "    </tr>\n",
       "    <tr>\n",
       "      <th>8</th>\n",
       "      <td>9</td>\n",
       "      <td>2.9741</td>\n",
       "      <td>2.5970</td>\n",
       "      <td>1.4474</td>\n",
       "    </tr>\n",
       "    <tr>\n",
       "      <th>9</th>\n",
       "      <td>10</td>\n",
       "      <td>4.4040</td>\n",
       "      <td>5.9260</td>\n",
       "      <td>6.5017</td>\n",
       "    </tr>\n",
       "  </tbody>\n",
       "</table>\n",
       "</div>"
      ],
      "text/plain": [
       "   Index    5-mins  10-mins  20-mins\n",
       "0      1    3.3635   3.4745   3.0692\n",
       "1      2    4.3848   4.1470   6.7121\n",
       "2      3    1.5408   1.2124   0.5711\n",
       "3      4    1.7437   1.8723   2.1220\n",
       "4      5  107.0411  11.0797  14.5181\n",
       "5      6    3.3061   3.2015   3.3030\n",
       "6      7    5.7399   5.8178   2.7650\n",
       "7      8    3.0006   2.1940   1.9447\n",
       "8      9    2.9741   2.5970   1.4474\n",
       "9     10    4.4040   5.9260   6.5017"
      ]
     },
     "execution_count": 3,
     "metadata": {},
     "output_type": "execute_result"
    }
   ],
   "source": [
    "data = pd.read_csv('Alcoa Realized Voltality.csv')\n",
    "data.head(10)"
   ]
  },
  {
   "cell_type": "code",
   "execution_count": 4,
   "metadata": {},
   "outputs": [
    {
     "data": {
      "text/html": [
       "<div>\n",
       "<style scoped>\n",
       "    .dataframe tbody tr th:only-of-type {\n",
       "        vertical-align: middle;\n",
       "    }\n",
       "\n",
       "    .dataframe tbody tr th {\n",
       "        vertical-align: top;\n",
       "    }\n",
       "\n",
       "    .dataframe thead th {\n",
       "        text-align: right;\n",
       "    }\n",
       "</style>\n",
       "<table border=\"1\" class=\"dataframe\">\n",
       "  <thead>\n",
       "    <tr style=\"text-align: right;\">\n",
       "      <th></th>\n",
       "      <th>Index</th>\n",
       "      <th>5-mins</th>\n",
       "      <th>10-mins</th>\n",
       "      <th>20-mins</th>\n",
       "      <th>log RVt</th>\n",
       "    </tr>\n",
       "  </thead>\n",
       "  <tbody>\n",
       "    <tr>\n",
       "      <th>0</th>\n",
       "      <td>1</td>\n",
       "      <td>3.3635</td>\n",
       "      <td>3.4745</td>\n",
       "      <td>3.0692</td>\n",
       "      <td>1.245451</td>\n",
       "    </tr>\n",
       "    <tr>\n",
       "      <th>1</th>\n",
       "      <td>2</td>\n",
       "      <td>4.3848</td>\n",
       "      <td>4.1470</td>\n",
       "      <td>6.7121</td>\n",
       "      <td>1.422385</td>\n",
       "    </tr>\n",
       "    <tr>\n",
       "      <th>2</th>\n",
       "      <td>3</td>\n",
       "      <td>1.5408</td>\n",
       "      <td>1.2124</td>\n",
       "      <td>0.5711</td>\n",
       "      <td>0.192602</td>\n",
       "    </tr>\n",
       "    <tr>\n",
       "      <th>3</th>\n",
       "      <td>4</td>\n",
       "      <td>1.7437</td>\n",
       "      <td>1.8723</td>\n",
       "      <td>2.1220</td>\n",
       "      <td>0.627168</td>\n",
       "    </tr>\n",
       "    <tr>\n",
       "      <th>4</th>\n",
       "      <td>5</td>\n",
       "      <td>107.0411</td>\n",
       "      <td>11.0797</td>\n",
       "      <td>14.5181</td>\n",
       "      <td>2.405115</td>\n",
       "    </tr>\n",
       "  </tbody>\n",
       "</table>\n",
       "</div>"
      ],
      "text/plain": [
       "   Index    5-mins  10-mins  20-mins   log RVt\n",
       "0      1    3.3635   3.4745   3.0692  1.245451\n",
       "1      2    4.3848   4.1470   6.7121  1.422385\n",
       "2      3    1.5408   1.2124   0.5711  0.192602\n",
       "3      4    1.7437   1.8723   2.1220  0.627168\n",
       "4      5  107.0411  11.0797  14.5181  2.405115"
      ]
     },
     "execution_count": 4,
     "metadata": {},
     "output_type": "execute_result"
    }
   ],
   "source": [
    "data['log RVt'] = np.log(data['10-mins'])\n",
    "data.head(5)"
   ]
  },
  {
   "cell_type": "code",
   "execution_count": 9,
   "metadata": {},
   "outputs": [
    {
     "data": {
      "text/plain": [
       "Index        int64\n",
       "5-mins     float64\n",
       "10-mins    float64\n",
       "20-mins    float64\n",
       "log RVt    float64\n",
       "dtype: object"
      ]
     },
     "execution_count": 9,
     "metadata": {},
     "output_type": "execute_result"
    }
   ],
   "source": [
    "data['10-mins'] = data['10-mins'].astype(float)\n",
    "data.dtypes"
   ]
  },
  {
   "cell_type": "code",
   "execution_count": 10,
   "metadata": {},
   "outputs": [
    {
     "data": {
      "text/plain": [
       "[<matplotlib.lines.Line2D at 0x2411f3974f0>]"
      ]
     },
     "execution_count": 10,
     "metadata": {},
     "output_type": "execute_result"
    },
    {
     "data": {
      "image/png": "[encoded data removed]",
      "text/plain": [
       "<Figure size 640x480 with 1 Axes>"
      ]
     },
     "metadata": {},
     "output_type": "display_data"
    }
   ],
   "source": [
    "plt.plot(data['Index'], data['log RVt'])"
   ]
  },
  {
   "cell_type": "markdown",
   "metadata": {},
   "source": [
    "The local level model is given by:\n",
    "$$ y_t = \\mu_{t} + \\epsilon_t, \\sim N(0, \\sigma_{\\epsilon}^2)$$\n",
    "$$ \\mu_{t} = \\mu_{t-1} + \\eta_t, \\sim N(0, \\sigma_{\\eta}^2)$$ \n",
    "\n",
    "\n",
    "The conditional distribution of $\\mu_{t}$ given information up to time t-1, that is $\\mathcal{I}_{t-1}$. \n",
    "$$\\mu_{t}|\\mathcal{I}_{t-1} \\sim N(\\mu_{t|t-1}, \\Sigma_{t|t-1})$$\n",
    "\n",
    "Once the new observation at time t, becomes available $y_t$. This is identical to the prediction error as the difference between the state projection given past information $\\mu_{t}|\\mathcal{I}_{t-1}$ and  the observed quantity:\n",
    "\n",
    "$$ v_t = y_t - \\mu_{t|t-1} $$\n",
    "\n",
    "The Variance of the prediction error is given by:\n",
    "$$ V_t =Var(v_t|\\mathcal{I}_{t-1}) = Var(y_t - \\mu_{t|t-1}) = Var(\\epsilon_{t} +\\mu_{t|t-1}- \\mu_{t|t-1}) = \\sigma_{\\epsilon}^2 +\\Sigma_{t|t-1} $$\n",
    "\n",
    "Now given the conditional distribution of $\\mu_{t}|\\mathcal{I}_{t-1}$ and the realization of the new information, what will be the conditional distribution of $\\mu_{t}$ up to time t, i.e, $\\mu_{t}|\\mathcal{I}_{t-1}.$\n",
    "\n",
    "This is given by the optimal constructor of one Gaussian given another:\n",
    "Given $x \\sim N(\\mu_x,\\Sigma_{x})$ and $y \\sim N(\\mu_y,\\Sigma_{y})$ where the variances are kept as matrices for generality.\n",
    "\n",
    "\n",
    "The conditional distribution of x given y is given by the theorem*:\n",
    "\n",
    "\n",
    "$$E(x|y) = \\mu_{x} + \\Sigma_{x,y}\\Sigma_{yy}^{-1}(y-\\mu_{y})$$\n",
    "$$Var(x|y) = \\Sigma_{x,x} - \\Sigma_{x,x}\\Sigma_{y,y}^{-1} \\Sigma_{y,x} $$\n",
    "\n",
    "taking the two gaussians $\\mu_t|\\mathcal{I}_{t-1} \\sim N(\\mu_{t|t-1},\\Sigma_{t|t-1} )$ and $v_t|\\mathcal{I}_{t-1} \\sim N(0,V_t)$ and applying theorem*:\n",
    "\n",
    "$$E(\\mu_{t}|\\mathcal{I}_{t}) = \\mu_{t|t-1} + \\Sigma_{\\mu_{t},v_{t}|\\mathcal{I}_{t}} V_{t}^{-1}(y_t - \\mu_{t|t-1}) $$\n",
    "$$Var(\\mu_{t}|\\mathcal{I}_{t}) = \\Sigma_{t|t-1} - \\Sigma_{t|t-1} V_{t}^{-1}  \\Sigma_{\\mu_{t},v_{t}|\\mathcal{I}_{t}}$$\n",
    "\n",
    "The covariance between $\\mu_t$ and $v_t$ is given without proof as $\\Sigma_{\\mu_{t},v_{t}|\\mathcal{I}_{t}} = \\Sigma_{t|t-1}$.\n",
    "\n",
    "Then the optimal prediction of the state given its previuos state and the new information is:\n",
    "$$\\mu_{t|t} = \\mu_{t|t-1} + \\Sigma_{t|t-1}(y_t - \\mu_{t|t-1})/V_t $$\n",
    "$$\\Sigma_{t|t} = \\Sigma_{t|t-1} - \\Sigma_{t|t-1}^{2} / V_{t} $$\n",
    "\n",
    "The quantity $\\Sigma_{t|t-1}/V_t = K_t$ is the kalman gain.\n",
    "\n",
    "$$\\mu_{t|t} = \\mu_{t|t-1} + K_t(y_t - \\mu_{t|t-1}) $$\n",
    "$$\\Sigma_{t|t} = \\Sigma_{t|t-1} (1- K_t) $$\n",
    "\n",
    "The final step is to project the state into the future that is given information up to time t, what is the conditioanl distribution of $\\mu_{t+1}$ given $\\mathcal{I}_{t}$.\n",
    "\n",
    "$$\\mu_{t+1|t} = E(\\mu_{t} + \\eta_t) = \\mu_{t}$$\n",
    "$$ \\Sigma_{t+1|t} = Var(\\mu_{t} + \\eta_t) = \\Sigma_{t|t} + \\sigma_{\\eta}^{2}$$\n",
    "\n"
   ]
  },
  {
   "cell_type": "markdown",
   "metadata": {},
   "source": [
    "Once the initial starting point for the state $\\mu_{1|0}$ and $\\Sigma_{1|0}$ is identified the recurssions can be performed up to point T.\n",
    "$$ v_1 = y_1 - \\mu_{1|0} $$\n",
    "$$ V_1 = \\sigma_{\\epsilon}^2 +\\Sigma_{1|0} $$\n",
    "$$K_1 = \\Sigma_{1|0}/V_1 $$\n",
    "$$\\mu_{1|1} = \\mu_{1|0} + K_1(y_1 - \\mu_{1|0}) $$\n",
    "$$\\Sigma_{1|1} = \\Sigma_{1|0} (1- K_1) $$\n",
    "$$\\mu_{2|1} =  \\mu_{1|1}$$\n",
    "$$ \\Sigma_{2|1}  = \\Sigma_{1|1} + \\sigma_{\\eta}^{2}$$\n",
    "\n",
    "Then:\n",
    "$$ v_2 = y_2 - \\mu_{2|1} $$\n",
    "$$ V_2 = \\sigma_{\\epsilon}^2 +\\Sigma_{2|1} $$\n",
    "$$K_2 = \\Sigma_{2|1}/V_2 $$\n",
    "$$\\mu_{2|2} = \\mu_{2|1} + K_2(y_2 - \\mu_{2|1}) $$\n",
    "$$\\Sigma_{2|2} = \\Sigma_{2|1} (1- K_2) $$\n",
    "$$\\mu_{3|2} =  \\mu_{2|2}$$\n",
    "$$ \\Sigma_{3|2}  = \\Sigma_{2|2} + \\sigma_{\\eta}^{2}$$\n",
    "and so on:\n",
    "\n",
    "$$..............$$\n"
   ]
  },
  {
   "cell_type": "markdown",
   "metadata": {},
   "source": [
    "The prediction error $v_t$ is normal, therefore the log- likelihood can be written as:\n",
    "$$ \\ell(\\sigma_{\\epsilon}^2,\\sigma_{\\eta}^2;v_t) = -\\frac{T}{2} \\log(2\\pi) - \\frac{T}{2}\\sum_{t=1}^{T}{\\log(V_t)}  - \\frac{1}{2} \\sum{v_{t}^2/V_t} $$"
   ]
  },
  {
   "cell_type": "code",
   "execution_count": 11,
   "metadata": {},
   "outputs": [],
   "source": [
    "def log_likelihood(p,y):\n",
    "    sigma_eps2 = p[0]\n",
    "    sigma_eta2 = p[1]\n",
    "    v = np.zeros(len(y))\n",
    "    mu = np.zeros(len(y))\n",
    "    V =  np.zeros(len(y))\n",
    "    S_var = np.zeros(len(y))\n",
    "    K = np.zeros(len(y))\n",
    "    mu[0] = 0\n",
    "    S_var[0] = 1000\n",
    "    v[0] = y[0]- mu[0]\n",
    "    V[0] = S_var[0] + sigma_eps2\n",
    "    K[0] = S_var[0]/V[0]\n",
    "\n",
    "\n",
    "    for i in range(len(y)-1):\n",
    "        mu[i+1] = mu[i] + K[i]*v[i]\n",
    "        S_var[i+1] = S_var[i]*(1-K[i]) + sigma_eta2\n",
    "        v[i+1] = y[i+1] - mu[i+1]\n",
    "        V[i+1] = S_var[i+1] + sigma_eps2\n",
    "        K[i+1] = S_var[i+1]/V[i+1]\n",
    "\n",
    "    l = -0.5*(len(y))*np.log(2*np.pi) - 0.5*np.sum(np.log(V)) - 0.5*np.sum((v**2)/V)\n",
    "    return -l"
   ]
  },
  {
   "cell_type": "code",
   "execution_count": 12,
   "metadata": {},
   "outputs": [
    {
     "data": {
      "text/plain": [
       "300.19936328893266"
      ]
     },
     "execution_count": 12,
     "metadata": {},
     "output_type": "execute_result"
    }
   ],
   "source": [
    "#Test the likelihood function:\n",
    "p0 = [0.1,0.1]\n",
    "ll = log_likelihood(p0, data['log RVt'])\n",
    "ll"
   ]
  },
  {
   "cell_type": "code",
   "execution_count": 14,
   "metadata": {},
   "outputs": [],
   "source": [
    "def constraint(p):\n",
    "    sigma_eps2 = p[0]\n",
    "    sigma_eta2 = p[1]\n",
    "    return sigma_eps2,sigma_eta2\n",
    "\n",
    "cons = { 'type' :'ineq' , 'fun' : constraint}"
   ]
  },
  {
   "cell_type": "code",
   "execution_count": 16,
   "metadata": {},
   "outputs": [
    {
     "data": {
      "text/plain": [
       " message: Optimization terminated successfully\n",
       " success: True\n",
       "  status: 0\n",
       "     fun: 263.34878746486163\n",
       "       x: [ 2.307e-01  5.404e-03]\n",
       "     nit: 18\n",
       "     jac: [-8.282e-03 -3.553e-01]\n",
       "    nfev: 76\n",
       "    njev: 18"
      ]
     },
     "execution_count": 16,
     "metadata": {},
     "output_type": "execute_result"
    }
   ],
   "source": [
    "minimize(log_likelihood, p0, args= (data['log RVt']), constraints= cons, options={\"maxiter\": 1000})"
   ]
  },
  {
   "cell_type": "code",
   "execution_count": 17,
   "metadata": {},
   "outputs": [
    {
     "data": {
      "text/plain": [
       "0.4803123983409131"
      ]
     },
     "execution_count": 17,
     "metadata": {},
     "output_type": "execute_result"
    }
   ],
   "source": [
    "np.sqrt(2.307e-01)\n"
   ]
  },
  {
   "cell_type": "code",
   "execution_count": 18,
   "metadata": {},
   "outputs": [
    {
     "data": {
      "text/plain": [
       "0.07351190379795643"
      ]
     },
     "execution_count": 18,
     "metadata": {},
     "output_type": "execute_result"
    }
   ],
   "source": [
    "np.sqrt(5.404e-03)"
   ]
  },
  {
   "cell_type": "markdown",
   "metadata": {},
   "source": [
    "The results of the MLE estimations are:\n",
    "$$ \\sigma_{\\epsilon}^2 = 0.2307 $$\n",
    "$$ \\sigma_{\\eta}^2 = 0.0054 $$\n",
    "\n",
    "Therefore the corresponding errors are:\n",
    "$$\\sigma_{\\epsilon} = \\sqrt{\\sigma_{\\epsilon}^2} = 0.4803$$\n",
    "$$\\sigma_{\\eta} = \\sqrt{\\sigma_{\\eta}^2} = 0.0735$$\n"
   ]
  },
  {
   "cell_type": "markdown",
   "metadata": {},
   "source": [
    "The estimates are exactly identical to the results of the book, notiing that the observations error are greater than the state error, as the daily voltality estimates are contaminated by errors in high-frequency data, due to market micro-structures of bid-ask volumes."
   ]
  }
 ],
 "metadata": {
  "kernelspec": {
   "display_name": "base",
   "language": "python",
   "name": "python3"
  },
  "language_info": {
   "codemirror_mode": {
    "name": "ipython",
    "version": 3
   },
   "file_extension": ".py",
   "mimetype": "text/x-python",
   "name": "python",
   "nbconvert_exporter": "python",
   "pygments_lexer": "ipython3",
   "version": "3.10.9"
  }
 },
 "nbformat": 4,
 "nbformat_minor": 2
}
