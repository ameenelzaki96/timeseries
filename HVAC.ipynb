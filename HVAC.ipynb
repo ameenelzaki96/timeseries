{
 "cells": [
  {
   "cell_type": "code",
   "execution_count": 18,
   "metadata": {},
   "outputs": [],
   "source": [
    "import numpy as np\n",
    "import matplotlib.pyplot as plt\n",
    "import pandas as pd\n",
    "import seaborn as sns\n",
    "import statsmodels.api as sm\n",
    "from scipy.stats import norm\n",
    "from scipy.optimize import minimize"
   ]
  },
  {
   "cell_type": "markdown",
   "metadata": {},
   "source": [
    "The dataset presented here is a small synthetic data of the stock prices of the top three selling HVAC companies in the US along with the energy price per unit kwh. The data is small, ranging through a short period (from January 2021 to February 2025) since the goal is merly to demonstrate the ideas behind the analysis.\n",
    "\n",
    "The goal is to analyze whether energy prices have any impact on the performance of the HVAC industry through analyzing its impact on the stock performance of a portofolio of the three major companies. "
   ]
  },
  {
   "cell_type": "code",
   "execution_count": 19,
   "metadata": {},
   "outputs": [
    {
     "data": {
      "text/html": [
       "<div>\n",
       "<style scoped>\n",
       "    .dataframe tbody tr th:only-of-type {\n",
       "        vertical-align: middle;\n",
       "    }\n",
       "\n",
       "    .dataframe tbody tr th {\n",
       "        vertical-align: top;\n",
       "    }\n",
       "\n",
       "    .dataframe thead th {\n",
       "        text-align: right;\n",
       "    }\n",
       "</style>\n",
       "<table border=\"1\" class=\"dataframe\">\n",
       "  <thead>\n",
       "    <tr style=\"text-align: right;\">\n",
       "      <th></th>\n",
       "      <th>Date</th>\n",
       "      <th>Trane</th>\n",
       "      <th>Watsco</th>\n",
       "      <th>Carrier</th>\n",
       "      <th>Portfolio</th>\n",
       "      <th>% Elec</th>\n",
       "      <th>S&amp;P500</th>\n",
       "    </tr>\n",
       "  </thead>\n",
       "  <tbody>\n",
       "    <tr>\n",
       "      <th>0</th>\n",
       "      <td>1/1/2021</td>\n",
       "      <td>-1.25%</td>\n",
       "      <td>5.27%</td>\n",
       "      <td>2.07%</td>\n",
       "      <td>1.76%</td>\n",
       "      <td>-0.77%</td>\n",
       "      <td>-1.11%</td>\n",
       "    </tr>\n",
       "    <tr>\n",
       "      <th>1</th>\n",
       "      <td>2/1/2021</td>\n",
       "      <td>6.90%</td>\n",
       "      <td>1.93%</td>\n",
       "      <td>-5.12%</td>\n",
       "      <td>-0.32%</td>\n",
       "      <td>8.45%</td>\n",
       "      <td>2.61%</td>\n",
       "    </tr>\n",
       "    <tr>\n",
       "      <th>2</th>\n",
       "      <td>3/1/2021</td>\n",
       "      <td>8.04%</td>\n",
       "      <td>7.26%</td>\n",
       "      <td>15.58%</td>\n",
       "      <td>11.80%</td>\n",
       "      <td>-2.87%</td>\n",
       "      <td>4.24%</td>\n",
       "    </tr>\n",
       "    <tr>\n",
       "      <th>3</th>\n",
       "      <td>4/1/2021</td>\n",
       "      <td>5.00%</td>\n",
       "      <td>12.31%</td>\n",
       "      <td>3.22%</td>\n",
       "      <td>5.52%</td>\n",
       "      <td>-1.94%</td>\n",
       "      <td>5.24%</td>\n",
       "    </tr>\n",
       "    <tr>\n",
       "      <th>4</th>\n",
       "      <td>5/1/2021</td>\n",
       "      <td>7.23%</td>\n",
       "      <td>-0.50%</td>\n",
       "      <td>5.39%</td>\n",
       "      <td>4.75%</td>\n",
       "      <td>0.56%</td>\n",
       "      <td>0.55%</td>\n",
       "    </tr>\n",
       "  </tbody>\n",
       "</table>\n",
       "</div>"
      ],
      "text/plain": [
       "       Date   Trane  Watsco Carrier Portfolio  % Elec  S&P500\n",
       "0  1/1/2021  -1.25%   5.27%   2.07%     1.76%  -0.77%  -1.11%\n",
       "1  2/1/2021   6.90%   1.93%  -5.12%    -0.32%   8.45%   2.61%\n",
       "2  3/1/2021   8.04%   7.26%  15.58%    11.80%  -2.87%   4.24%\n",
       "3  4/1/2021   5.00%  12.31%   3.22%     5.52%  -1.94%   5.24%\n",
       "4  5/1/2021   7.23%  -0.50%   5.39%     4.75%   0.56%   0.55%"
      ]
     },
     "execution_count": 19,
     "metadata": {},
     "output_type": "execute_result"
    }
   ],
   "source": [
    "data = pd.read_csv('HVAC.csv')\n",
    "data.head(5)"
   ]
  },
  {
   "cell_type": "markdown",
   "metadata": {},
   "source": [
    "Note: The column portfolio is just a wieghted average of the the returns of the companies based on their revenues during 2022. Ideally one should consider an index of HVAC companies but no such index was found."
   ]
  },
  {
   "cell_type": "code",
   "execution_count": 20,
   "metadata": {},
   "outputs": [],
   "source": [
    "data['Portfolio'] = data['Portfolio'].str.replace('%', '').astype(float)\n",
    "data['S&P500'] = data['S&P500'].str.replace('%', '').astype(float)\n",
    "data['% Elec'] = data['% Elec'].str.replace('%', '').astype(float)"
   ]
  },
  {
   "cell_type": "code",
   "execution_count": 21,
   "metadata": {},
   "outputs": [
    {
     "data": {
      "text/plain": [
       "Date          object\n",
       "Trane         object\n",
       "Watsco        object\n",
       "Carrier       object\n",
       "Portfolio    float64\n",
       "% Elec       float64\n",
       "S&P500       float64\n",
       "dtype: object"
      ]
     },
     "execution_count": 21,
     "metadata": {},
     "output_type": "execute_result"
    }
   ],
   "source": [
    "data.dtypes"
   ]
  },
  {
   "cell_type": "markdown",
   "metadata": {},
   "source": [
    "To assess the performance of the companies the market sentiments must be isolated, that is the stock prices of the company reflects additional information than just their performance.\n",
    "For this sake a simple OLS regression between the created portfolio and the market index is performed and the residuals are saved. These residuals represent the portions of performance attributed only to the companies."
   ]
  },
  {
   "cell_type": "markdown",
   "metadata": {},
   "source": [
    "$$ R_{i,t} = \\alpha + \\beta R_{M,t}$$"
   ]
  },
  {
   "cell_type": "code",
   "execution_count": 23,
   "metadata": {},
   "outputs": [
    {
     "name": "stdout",
     "output_type": "stream",
     "text": [
      "                            OLS Regression Results                            \n",
      "==============================================================================\n",
      "Dep. Variable:              Portfolio   R-squared:                       0.614\n",
      "Model:                            OLS   Adj. R-squared:                  0.606\n",
      "Method:                 Least Squares   F-statistic:                     76.45\n",
      "Date:                Tue, 13 May 2025   Prob (F-statistic):           1.70e-11\n",
      "Time:                        14:43:53   Log-Likelihood:                -147.47\n",
      "No. Observations:                  50   AIC:                             298.9\n",
      "Df Residuals:                      48   BIC:                             302.8\n",
      "Df Model:                           1                                         \n",
      "Covariance Type:            nonrobust                                         \n",
      "==============================================================================\n",
      "                 coef    std err          t      P>|t|      [0.025      0.975]\n",
      "------------------------------------------------------------------------------\n",
      "const          0.3946      0.684      0.577      0.567      -0.981       1.770\n",
      "S&P500         1.2932      0.148      8.744      0.000       0.996       1.591\n",
      "==============================================================================\n",
      "Omnibus:                        0.862   Durbin-Watson:                   2.031\n",
      "Prob(Omnibus):                  0.650   Jarque-Bera (JB):                0.878\n",
      "Skew:                           0.148   Prob(JB):                        0.645\n",
      "Kurtosis:                       2.423   Cond. No.                         4.75\n",
      "==============================================================================\n",
      "\n",
      "Notes:\n",
      "[1] Standard Errors assume that the covariance matrix of the errors is correctly specified.\n"
     ]
    }
   ],
   "source": [
    "y = data['Portfolio']\n",
    "x = sm.add_constant(data['S&P500'])\n",
    "model = sm.OLS(y, x).fit()\n",
    "print(model.summary())"
   ]
  },
  {
   "cell_type": "code",
   "execution_count": 42,
   "metadata": {},
   "outputs": [
    {
     "data": {
      "text/plain": [
       "Text(2, 20, '$y_t = alpha + beta x_t$')"
      ]
     },
     "execution_count": 42,
     "metadata": {},
     "output_type": "execute_result"
    },
    {
     "data": {
      "image/png": "[encoded data removed]",
      "text/plain": [
       "<Figure size 640x480 with 1 Axes>"
      ]
     },
     "metadata": {},
     "output_type": "display_data"
    }
   ],
   "source": [
    "plt.scatter(data['S&P500'], data['Portfolio'] , color = 'purple')\n",
    "plt.plot(data['S&P500'], 0.3946 + 1.2932*data['S&P500'])\n",
    "plt.text(2,20,'$y_t = alpha + beta x_t$')"
   ]
  },
  {
   "cell_type": "code",
   "execution_count": 43,
   "metadata": {},
   "outputs": [
    {
     "data": {
      "text/html": [
       "<div>\n",
       "<style scoped>\n",
       "    .dataframe tbody tr th:only-of-type {\n",
       "        vertical-align: middle;\n",
       "    }\n",
       "\n",
       "    .dataframe tbody tr th {\n",
       "        vertical-align: top;\n",
       "    }\n",
       "\n",
       "    .dataframe thead th {\n",
       "        text-align: right;\n",
       "    }\n",
       "</style>\n",
       "<table border=\"1\" class=\"dataframe\">\n",
       "  <thead>\n",
       "    <tr style=\"text-align: right;\">\n",
       "      <th></th>\n",
       "      <th>Date</th>\n",
       "      <th>Trane</th>\n",
       "      <th>Watsco</th>\n",
       "      <th>Carrier</th>\n",
       "      <th>Portfolio</th>\n",
       "      <th>% Elec</th>\n",
       "      <th>S&amp;P500</th>\n",
       "      <th>Abnormal returns</th>\n",
       "    </tr>\n",
       "  </thead>\n",
       "  <tbody>\n",
       "    <tr>\n",
       "      <th>0</th>\n",
       "      <td>1/1/2021</td>\n",
       "      <td>-1.25%</td>\n",
       "      <td>5.27%</td>\n",
       "      <td>2.07%</td>\n",
       "      <td>1.76</td>\n",
       "      <td>-0.77</td>\n",
       "      <td>-1.11</td>\n",
       "      <td>2.800852</td>\n",
       "    </tr>\n",
       "    <tr>\n",
       "      <th>1</th>\n",
       "      <td>2/1/2021</td>\n",
       "      <td>6.90%</td>\n",
       "      <td>1.93%</td>\n",
       "      <td>-5.12%</td>\n",
       "      <td>-0.32</td>\n",
       "      <td>8.45</td>\n",
       "      <td>2.61</td>\n",
       "      <td>-4.089852</td>\n",
       "    </tr>\n",
       "    <tr>\n",
       "      <th>2</th>\n",
       "      <td>3/1/2021</td>\n",
       "      <td>8.04%</td>\n",
       "      <td>7.26%</td>\n",
       "      <td>15.58%</td>\n",
       "      <td>11.80</td>\n",
       "      <td>-2.87</td>\n",
       "      <td>4.24</td>\n",
       "      <td>5.922232</td>\n",
       "    </tr>\n",
       "    <tr>\n",
       "      <th>3</th>\n",
       "      <td>4/1/2021</td>\n",
       "      <td>5.00%</td>\n",
       "      <td>12.31%</td>\n",
       "      <td>3.22%</td>\n",
       "      <td>5.52</td>\n",
       "      <td>-1.94</td>\n",
       "      <td>5.24</td>\n",
       "      <td>-1.650968</td>\n",
       "    </tr>\n",
       "    <tr>\n",
       "      <th>4</th>\n",
       "      <td>5/1/2021</td>\n",
       "      <td>7.23%</td>\n",
       "      <td>-0.50%</td>\n",
       "      <td>5.39%</td>\n",
       "      <td>4.75</td>\n",
       "      <td>0.56</td>\n",
       "      <td>0.55</td>\n",
       "      <td>3.644140</td>\n",
       "    </tr>\n",
       "  </tbody>\n",
       "</table>\n",
       "</div>"
      ],
      "text/plain": [
       "       Date   Trane  Watsco Carrier  Portfolio  % Elec  S&P500  \\\n",
       "0  1/1/2021  -1.25%   5.27%   2.07%       1.76   -0.77   -1.11   \n",
       "1  2/1/2021   6.90%   1.93%  -5.12%      -0.32    8.45    2.61   \n",
       "2  3/1/2021   8.04%   7.26%  15.58%      11.80   -2.87    4.24   \n",
       "3  4/1/2021   5.00%  12.31%   3.22%       5.52   -1.94    5.24   \n",
       "4  5/1/2021   7.23%  -0.50%   5.39%       4.75    0.56    0.55   \n",
       "\n",
       "   Abnormal returns  \n",
       "0          2.800852  \n",
       "1         -4.089852  \n",
       "2          5.922232  \n",
       "3         -1.650968  \n",
       "4          3.644140  "
      ]
     },
     "execution_count": 43,
     "metadata": {},
     "output_type": "execute_result"
    }
   ],
   "source": [
    "data['Abnormal returns'] = data['Portfolio'] - 0.3946 - 1.2932*data['S&P500']\n",
    "data.head(5)"
   ]
  },
  {
   "cell_type": "markdown",
   "metadata": {},
   "source": [
    "Once the abonormal returns are created one can check whether there is a proprtional relationship between the changes in the electricity prices and the abnormal returns. In this case it turns out there is no such relation!"
   ]
  },
  {
   "cell_type": "code",
   "execution_count": 48,
   "metadata": {},
   "outputs": [
    {
     "name": "stdout",
     "output_type": "stream",
     "text": [
      "                            OLS Regression Results                            \n",
      "==============================================================================\n",
      "Dep. Variable:       Abnormal returns   R-squared:                       0.001\n",
      "Model:                            OLS   Adj. R-squared:                 -0.020\n",
      "Method:                 Least Squares   F-statistic:                   0.03731\n",
      "Date:                Tue, 13 May 2025   Prob (F-statistic):              0.848\n",
      "Time:                        15:39:39   Log-Likelihood:                -147.45\n",
      "No. Observations:                  50   AIC:                             298.9\n",
      "Df Residuals:                      48   BIC:                             302.7\n",
      "Df Model:                           1                                         \n",
      "Covariance Type:            nonrobust                                         \n",
      "==============================================================================\n",
      "                 coef    std err          t      P>|t|      [0.025      0.975]\n",
      "------------------------------------------------------------------------------\n",
      "const         -0.0249      0.679     -0.037      0.971      -1.390       1.340\n",
      "% Elec         0.0477      0.247      0.193      0.848      -0.449       0.545\n",
      "==============================================================================\n",
      "Omnibus:                        0.944   Durbin-Watson:                   2.047\n",
      "Prob(Omnibus):                  0.624   Jarque-Bera (JB):                0.914\n",
      "Skew:                           0.139   Prob(JB):                        0.633\n",
      "Kurtosis:                       2.399   Cond. No.                         2.81\n",
      "==============================================================================\n",
      "\n",
      "Notes:\n",
      "[1] Standard Errors assume that the covariance matrix of the errors is correctly specified.\n"
     ]
    }
   ],
   "source": [
    "y = data['Abnormal returns']\n",
    "x = sm.add_constant(data['% Elec'])\n",
    "model = sm.OLS(y, x).fit()\n",
    "print(model.summary())"
   ]
  },
  {
   "cell_type": "code",
   "execution_count": 50,
   "metadata": {},
   "outputs": [
    {
     "data": {
      "text/plain": [
       "[<matplotlib.lines.Line2D at 0x1df32744850>]"
      ]
     },
     "execution_count": 50,
     "metadata": {},
     "output_type": "execute_result"
    },
    {
     "data": {
      "image/png": "[encoded data removed]",
      "text/plain": [
       "<Figure size 640x480 with 1 Axes>"
      ]
     },
     "metadata": {},
     "output_type": "display_data"
    }
   ],
   "source": [
    "plt.scatter(data['% Elec'], data['Abnormal returns'] , color = 'purple')\n",
    "plt.plot(data['% Elec'], -0.0249 + 0.0477*data['% Elec'])"
   ]
  },
  {
   "cell_type": "markdown",
   "metadata": {},
   "source": [
    "Now we consider whether a bivariate VAR model can be useful in describing the relationship between the two series ( the abnormal returns and changes in the electricity prices).\n",
    "\n",
    "\n",
    "$$ R_{t} = \\alpha_{1,0} + \\alpha_{1,1} R_{t-1} + \\alpha_{1,2} \\Delta P_{t-1}$$\n",
    "$$ \\Delta P_{t} = \\alpha_{2,0} + \\alpha_{2,1} R_{t-1} + \\alpha_{1,2} \\Delta P_{t-1}$$"
   ]
  },
  {
   "cell_type": "markdown",
   "metadata": {},
   "source": [
    "To estimate we need to write the likelihood with respect to the multivariate vector: $$Y = [y_1,y_2]$$\n",
    "\n",
    "\n",
    "\n",
    "$$ \\ell(\\bold{\\theta};Y) = -\\frac{Tn}{2}\\log(2\\pi) - \\frac{T}{2}\\log(|\\Sigma|)  - \\frac{1}{2} \\sum{(Y - \\bold{E}(Y))\\Sigma^{-1} (Y - \\bold{E}(Y))'}  $$\n",
    "\n",
    "\n",
    "$$ \\Sigma = \\begin{bmatrix} \n",
    "\\sigma_{1}^2  &  \\sigma_{12} \\\\\n",
    " \\sigma_{12} &  \\sigma_{2}^2 \n",
    "\\end{bmatrix}\n",
    "$$\n",
    "\n",
    "\n",
    "Note that $(Y - \\bold{E}(Y))$ is just the error vector $\\bold{\\epsilon} = [u_1,u_2]$\n",
    "\n",
    "$$\\bold{\\epsilon_t} = [u_{1,t},u_{2,t}] = [y_{1,t} - \\alpha_{1,0} - \\alpha_{1,1} y_{1,t-1} - \\alpha_{1,2} y_{2,t-1}  , y_{2,t} - \\alpha_{2,0} - \\alpha_{2,1} y_{1,t-1} - \\alpha_{2,2} y_{2,t-1}]$$\n",
    "\n",
    "\n",
    "Finally, the joint likelihood will be found by re_writting the above likelihood as: $n = 2$\n",
    "\n",
    "\n",
    "$$ \\ell(\\bold{\\theta};Y) = -T \\log(2\\pi) - \\frac{T}{2}\\log(|\\Sigma|)  - \\frac{1}{2} \\sum{\\bold{\\epsilon_t} \\Sigma^{-1}\\bold{\\epsilon_t} '}  $$\n",
    "\n"
   ]
  },
  {
   "cell_type": "code",
   "execution_count": 45,
   "metadata": {},
   "outputs": [],
   "source": [
    "def log_likelihood(p,x1,x2):\n",
    "    a10_hat = p[0]\n",
    "    a20_hat = p[1]\n",
    "    a11_hat = p[2]\n",
    "    a12_hat = p[3]\n",
    "    a21_hat = p[4]\n",
    "    a22_hat = p[5]\n",
    "    gam1_hat = p[6]\n",
    "    gam2_hat = p[7]\n",
    "    P  = np.array([[gam1_hat,0], [0,gam2_hat]])\n",
    "    P_T = np.array([[gam1_hat,0], [0,gam2_hat]])\n",
    "    V = np.matmul(P,P_T)\n",
    "    Det_V = np.linalg.det(V)\n",
    "    V_inv = np.linalg.inv(V)\n",
    "    u1 = np.zeros(len(x1))\n",
    "    u2 = np.zeros(len(x2))\n",
    "    u1[0] = 0\n",
    "    u2[0] = 0\n",
    "    for i in range(len(x1)-1):\n",
    "        u1[i+1] = x1[i+1] - a11_hat*x1[i] - a10_hat - a12_hat*x2[i]\n",
    "        u2[i+1] = x2[i+1] - a21_hat*x1[i] - a20_hat - a22_hat*x2[i]\n",
    "    U = np.column_stack((u1,u2))\n",
    "    L = np.zeros(len(U))\n",
    "    for i in range (len(U)):\n",
    "      h_i =   np.matmul(np.matmul(U[i,],V_inv),(U[i,]).reshape(-1,1))\n",
    "      L[i] = h_i.item()\n",
    "\n",
    "    l = -(len(U))*np.log(2*np.pi) - 0.5*(len(U))*np.log(Det_V) - 0.5*np.sum(L)\n",
    "    return -l"
   ]
  },
  {
   "cell_type": "code",
   "execution_count": 46,
   "metadata": {},
   "outputs": [
    {
     "data": {
      "text/plain": [
       "1585.6779367997947"
      ]
     },
     "execution_count": 46,
     "metadata": {},
     "output_type": "execute_result"
    }
   ],
   "source": [
    "#Test the likelihood function:\n",
    "p0 = [1.5,1,3,0.2, 0.8,0.14,2,4]\n",
    "ll = log_likelihood(p0,data['Abnormal returns'],data['% Elec'])\n",
    "ll"
   ]
  },
  {
   "cell_type": "code",
   "execution_count": 47,
   "metadata": {},
   "outputs": [
    {
     "data": {
      "text/plain": [
       "  message: Optimization terminated successfully.\n",
       "  success: True\n",
       "   status: 0\n",
       "      fun: 262.8723463167499\n",
       "        x: [-3.490e-01  4.072e-01 -2.907e-02  5.647e-01 -1.650e-02\n",
       "             2.730e-01  4.343e+00  2.588e+00]\n",
       "      nit: 33\n",
       "      jac: [ 3.815e-06  0.000e+00  0.000e+00  0.000e+00  3.815e-06\n",
       "             0.000e+00  3.815e-06  0.000e+00]\n",
       " hess_inv: [[ 3.642e-01  2.039e-02 ...  2.269e-02  1.789e-02]\n",
       "            [ 2.039e-02  1.472e-01 ...  3.563e-03  1.542e-03]\n",
       "            ...\n",
       "            [ 2.269e-02  3.563e-03 ...  1.869e-01  1.619e-03]\n",
       "            [ 1.789e-02  1.542e-03 ...  1.619e-03  5.815e-02]]\n",
       "     nfev: 369\n",
       "     njev: 41"
      ]
     },
     "execution_count": 47,
     "metadata": {},
     "output_type": "execute_result"
    }
   ],
   "source": [
    "minimize(log_likelihood, p0, args= (data['Abnormal returns'],data['% Elec']))"
   ]
  },
  {
   "cell_type": "markdown",
   "metadata": {},
   "source": [
    "$$ R_{t} = -0.349 - 0.029 R_{t-1} + 0.5647^{**} \\Delta P_{t-1}$$\n",
    "$$ \\Delta P_{t} = 0.407 - 0.0165 R_{t-1} + 0.273^{*} \\Delta P_{t-1}$$"
   ]
  },
  {
   "cell_type": "markdown",
   "metadata": {},
   "source": [
    "1. The Bivariate VAR suggests lags of the price changes are useful in explaining the returns, but the problem is that postive sign is counter intuitive suggesting that the higher the energy prices the higher the returns!\n",
    "2. An F-test should be performed to asses whether all the lags are siginificant before using the equation to make any inference."
   ]
  },
  {
   "cell_type": "markdown",
   "metadata": {},
   "source": [
    "Conclusion: At this point its addmitted that no conclusive evidence supporting whether energy prices are influencing (postively or negatively) the performance of HVAC companies!"
   ]
  },
  {
   "cell_type": "code",
   "execution_count": 56,
   "metadata": {},
   "outputs": [
    {
     "data": {
      "image/png": "[encoded data removed]",
      "text/plain": [
       "<Figure size 640x480 with 1 Axes>"
      ]
     },
     "metadata": {},
     "output_type": "display_data"
    }
   ],
   "source": [
    "M = np.zeros(len(data['Abnormal returns']))\n",
    "M[0] = -0.349\n",
    "for i in range (len(data['Abnormal returns'])-1):\n",
    "      M[i+1] =   -0.349 - 0.029 *data['Abnormal returns'][i] + 0.5647* data['% Elec'][i]\n",
    "      plt.scatter(data['% Elec'][i], data['Abnormal returns'][i] , color = 'purple')\n",
    "      plt.scatter(data['% Elec'][i], M[i] , color = 'yellow')\n",
    "   "
   ]
  }
 ],
 "metadata": {
  "kernelspec": {
   "display_name": "base",
   "language": "python",
   "name": "python3"
  },
  "language_info": {
   "codemirror_mode": {
    "name": "ipython",
    "version": 3
   },
   "file_extension": ".py",
   "mimetype": "text/x-python",
   "name": "python",
   "nbconvert_exporter": "python",
   "pygments_lexer": "ipython3",
   "version": "3.10.9"
  }
 },
 "nbformat": 4,
 "nbformat_minor": 2
}
